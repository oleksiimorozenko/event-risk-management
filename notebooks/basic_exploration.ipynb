{
 "cells": [
  {
   "cell_type": "code",
   "execution_count": 2,
   "metadata": {},
   "outputs": [],
   "source": [
    "import pandas as pd"
   ]
  },
  {
   "cell_type": "code",
   "execution_count": 3,
   "metadata": {},
   "outputs": [
    {
     "name": "stdout",
     "output_type": "stream",
     "text": [
      "         Date   Time        Day           Station  Code  Min Delay  Min Gap  \\\n",
      "0  2024-01-05  15:45     Friday  BATHURST STATION   SUO          0        0   \n",
      "1  2024-01-09  15:36    Tuesday  BATHURST STATION   SUO          0        0   \n",
      "2  2024-01-13  11:12   Saturday  BATHURST STATION   MUI         18       23   \n",
      "3  2024-01-17  17:09  Wednesday  BATHURST STATION  SUDP          0        0   \n",
      "4  2024-01-19  10:03     Friday  BATHURST STATION  SUDP          0        0   \n",
      "\n",
      "  Bound Line  Vehicle  \n",
      "0     W   BD     5213  \n",
      "1     W   BD     5193  \n",
      "2     W   BD     5077  \n",
      "3     W   BD     5221  \n",
      "4     W   BD     5347  \n"
     ]
    }
   ],
   "source": [
    "df = pd.read_csv('../data/processed/ttc_all_data_stationclean.csv')\n",
    "\n",
    "print(df.head())"
   ]
  },
  {
   "cell_type": "code",
   "execution_count": 4,
   "metadata": {},
   "outputs": [
    {
     "name": "stdout",
     "output_type": "stream",
     "text": [
      "Top 5 stations by number of delays:\n",
      "              Station  num_delays  total_delay\n",
      "4       BLOOR STATION        1941         5552\n",
      "65  ST GEORGE STATION        1779         7498\n",
      "23      FINCH STATION        1703         6448\n",
      "21   EGLINTON STATION        1452         6620\n",
      "35    KIPLING STATION        1359         5569\n",
      "\n",
      "Top 5 stations by total delay time:\n",
      "              Station  num_delays  total_delay\n",
      "65  ST GEORGE STATION        1779         7498\n",
      "21   EGLINTON STATION        1452         6620\n",
      "23      FINCH STATION        1703         6448\n",
      "33    KENNEDY STATION        1307         5866\n",
      "59    SPADINA STATION        1226         5700\n"
     ]
    }
   ],
   "source": [
    "mean_delay = df.groupby('Day')['Min Delay'].mean()\n",
    "min_delay = df.groupby('Day')['Min Delay'].min()\n",
    "max_delay = df.groupby('Day')['Min Delay'].max()\n",
    "\n",
    "result = pd.DataFrame({'min_delay': min_delay, 'max_delay': max_delay, 'mean_delay': mean_delay})\n",
    "\n",
    "df['Date'] = pd.to_datetime(df['Date'])\n",
    "\n",
    "date_counts = df.groupby('Date').size()\n",
    "\n",
    "station_stats = df.groupby('Station').agg(\n",
    "    num_delays=('Min Delay', 'size'),  # Count the number of delays for each station\n",
    "    total_delay=('Min Delay', 'sum')  # Sum the 'Min Delay' for each station\n",
    ").reset_index()\n",
    "\n",
    "top_5_by_delays = station_stats.nlargest(5, 'num_delays')\n",
    "top_5_by_total_delay = station_stats.nlargest(5, 'total_delay')\n",
    "\n",
    "# Display the results\n",
    "print(\"Top 5 stations by number of delays:\")\n",
    "print(top_5_by_delays)\n",
    "\n",
    "print(\"\\nTop 5 stations by total delay time:\")\n",
    "print(top_5_by_total_delay)\n"
   ]
  }
 ],
 "metadata": {
  "kernelspec": {
   "display_name": "Python (dsi_participant)",
   "language": "python",
   "name": "dsi_participant"
  },
  "language_info": {
   "codemirror_mode": {
    "name": "ipython",
    "version": 3
   },
   "file_extension": ".py",
   "mimetype": "text/x-python",
   "name": "python",
   "nbconvert_exporter": "python",
   "pygments_lexer": "ipython3",
   "version": "3.9.15"
  }
 },
 "nbformat": 4,
 "nbformat_minor": 2
}
