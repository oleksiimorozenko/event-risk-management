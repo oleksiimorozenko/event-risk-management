{
 "cells": [
  {
   "cell_type": "code",
   "execution_count": 24,
   "metadata": {},
   "outputs": [],
   "source": [
    "import pandas as pd\n",
    "\n",
    "df = pd.read_csv(r\"C:\\Users\\ufift\\event-risk-management\\merged_file.csv\")"
   ]
  },
  {
   "cell_type": "code",
   "execution_count": 25,
   "metadata": {},
   "outputs": [
    {
     "data": {
      "text/plain": [
       "(69311, 10)"
      ]
     },
     "execution_count": 25,
     "metadata": {},
     "output_type": "execute_result"
    }
   ],
   "source": [
    "df.shape"
   ]
  },
  {
   "cell_type": "code",
   "execution_count": 26,
   "metadata": {},
   "outputs": [
    {
     "name": "stdout",
     "output_type": "stream",
     "text": [
      "Rows before cleaning: 69311\n",
      "Rows after cleaning: 45703\n"
     ]
    }
   ],
   "source": [
    "# Drop rows with any missing values\n",
    "df_cleaned = df.dropna()\n",
    "\n",
    "# Display number of rows before and after cleaning\n",
    "print(\"Rows before cleaning:\", df.shape[0])\n",
    "print(\"Rows after cleaning:\", df_cleaned.shape[0])"
   ]
  },
  {
   "cell_type": "code",
   "execution_count": 27,
   "metadata": {},
   "outputs": [
    {
     "name": "stdout",
     "output_type": "stream",
     "text": [
      "object\n"
     ]
    },
    {
     "name": "stderr",
     "output_type": "stream",
     "text": [
      "C:\\Users\\ufift\\AppData\\Local\\Temp\\ipykernel_9404\\668391800.py:2: SettingWithCopyWarning: \n",
      "A value is trying to be set on a copy of a slice from a DataFrame.\n",
      "Try using .loc[row_indexer,col_indexer] = value instead\n",
      "\n",
      "See the caveats in the documentation: https://pandas.pydata.org/pandas-docs/stable/user_guide/indexing.html#returning-a-view-versus-a-copy\n",
      "  df_cleaned[\"Vehicle\"] = df_cleaned[\"Vehicle\"].astype(str)\n"
     ]
    }
   ],
   "source": [
    "# Convert the \"Vehicle\" column to String type\n",
    "df_cleaned[\"Vehicle\"] = df_cleaned[\"Vehicle\"].astype(str)\n",
    "\n",
    "# Verify the change\n",
    "print(df_cleaned[\"Vehicle\"].dtype)  # Should print 'object' (string in pandas)"
   ]
  },
  {
   "cell_type": "code",
   "execution_count": 28,
   "metadata": {},
   "outputs": [
    {
     "name": "stdout",
     "output_type": "stream",
     "text": [
      "   Min Delay  Delayed\n",
      "0          3        1\n",
      "1          0        0\n",
      "2          0        0\n",
      "7          6        1\n",
      "8          5        1\n"
     ]
    },
    {
     "name": "stderr",
     "output_type": "stream",
     "text": [
      "C:\\Users\\ufift\\AppData\\Local\\Temp\\ipykernel_9404\\3419480174.py:2: SettingWithCopyWarning: \n",
      "A value is trying to be set on a copy of a slice from a DataFrame.\n",
      "Try using .loc[row_indexer,col_indexer] = value instead\n",
      "\n",
      "See the caveats in the documentation: https://pandas.pydata.org/pandas-docs/stable/user_guide/indexing.html#returning-a-view-versus-a-copy\n",
      "  df_cleaned[\"Delayed\"] = (df_cleaned[\"Min Delay\"] > 0).astype(int)\n"
     ]
    }
   ],
   "source": [
    "# Create the 'Delayed' variable based on 'Min Delay'\n",
    "df_cleaned[\"Delayed\"] = (df_cleaned[\"Min Delay\"] > 0).astype(int)\n",
    "\n",
    "# Display the first few rows to verify\n",
    "print(df_cleaned[[\"Min Delay\", \"Delayed\"]].head())"
   ]
  },
  {
   "cell_type": "code",
   "execution_count": 29,
   "metadata": {},
   "outputs": [
    {
     "name": "stdout",
     "output_type": "stream",
     "text": [
      "               Count\n",
      "Min Delay = 0  19429\n",
      "Min Delay > 0  26274\n"
     ]
    }
   ],
   "source": [
    "# Count occurrences where Min Delay = 0 and Min Delay > 0\n",
    "min_delay_counts = {\n",
    "    \"Min Delay = 0\": (df_cleaned[\"Min Delay\"] == 0).sum(),\n",
    "    \"Min Delay > 0\": (df_cleaned[\"Min Delay\"] > 0).sum()\n",
    "}\n",
    "\n",
    "# Convert to DataFrame for better readability\n",
    "min_delay_counts_df = pd.DataFrame.from_dict(min_delay_counts, orient=\"index\", columns=[\"Count\"])\n",
    "\n",
    "# Display the counts\n",
    "print(min_delay_counts_df)"
   ]
  },
  {
   "cell_type": "code",
   "execution_count": 30,
   "metadata": {},
   "outputs": [
    {
     "name": "stdout",
     "output_type": "stream",
     "text": [
      "Rows after keeping only selected stations: 7746\n"
     ]
    }
   ],
   "source": [
    "# Define the list of five stations to keep\n",
    "selected_stations = [\"BLOOR STATION\", \"KIPLING STATION\", \"FINCH STATION\", \"EGLINTON STATION\", \"KENNEDY BD STATION\"]  # Replace with actual station names\n",
    "\n",
    "# Filter the dataset to keep only these stations\n",
    "df_cleaned = df_cleaned[df_cleaned[\"Station\"].isin(selected_stations)]\n",
    "\n",
    "# Display the number of remaining records\n",
    "print(\"Rows after keeping only selected stations:\", df_cleaned.shape[0])"
   ]
  },
  {
   "cell_type": "code",
   "execution_count": 31,
   "metadata": {},
   "outputs": [
    {
     "name": "stdout",
     "output_type": "stream",
     "text": [
      "count     7746\n",
      "unique       5\n",
      "top          S\n",
      "freq      3099\n",
      "Name: Bound, dtype: object\n"
     ]
    }
   ],
   "source": [
    "import pandas as pd\n",
    "\n",
    "# Generate statistics for the 'Bound' variable\n",
    "bound_stats = df_cleaned[\"Bound\"].describe(include=\"all\")\n",
    "\n",
    "# Display the statistics\n",
    "print(bound_stats)"
   ]
  },
  {
   "cell_type": "code",
   "execution_count": 32,
   "metadata": {},
   "outputs": [
    {
     "name": "stdout",
     "output_type": "stream",
     "text": [
      "Bound\n",
      "S    3099\n",
      "N    1971\n",
      "W    1351\n",
      "E    1323\n",
      "B       2\n",
      "Name: count, dtype: int64\n"
     ]
    }
   ],
   "source": [
    "# Count occurrences of each unique value in Bound\n",
    "bound_counts = df_cleaned[\"Bound\"].value_counts()\n",
    "\n",
    "# Display the counts\n",
    "print(bound_counts)\n"
   ]
  },
  {
   "cell_type": "code",
   "execution_count": 33,
   "metadata": {},
   "outputs": [],
   "source": [
    "# Remove rows where Bound = B\n",
    "df_cleaned = df_cleaned[df_cleaned[\"Bound\"] != \"B\"]"
   ]
  },
  {
   "cell_type": "code",
   "execution_count": 34,
   "metadata": {},
   "outputs": [
    {
     "name": "stdout",
     "output_type": "stream",
     "text": [
      "     Time     Day             Station   Code  Min Delay  Min Gap Bound Line  \\\n",
      "1   02:30  Sunday     KIPLING STATION   MUIS          0        0     E   BD   \n",
      "14  08:24  Sunday    EGLINTON STATION    SUG          6       12     S   YU   \n",
      "16  08:38  Sunday    EGLINTON STATION  TUNOA          6       12     N   YU   \n",
      "18  10:54  Sunday    EGLINTON STATION  PUSRA          4        8     S   YU   \n",
      "36  21:57  Sunday  KENNEDY BD STATION   EUVA          6       12     W   BD   \n",
      "\n",
      "   Vehicle  Delayed  Season  \n",
      "1     5341        0  Winter  \n",
      "14    5771        1  Winter  \n",
      "16    6131        1  Winter  \n",
      "18    5851        1  Winter  \n",
      "36    5141        1  Winter  \n"
     ]
    }
   ],
   "source": [
    "import pandas as pd\n",
    "\n",
    "# Define seasons based on the month\n",
    "def categorize_season(date):\n",
    "    month = date.month\n",
    "    if month in [12, 1, 2]:\n",
    "        return \"Winter\"\n",
    "    elif month in [3, 4, 5]:\n",
    "        return \"Spring\"\n",
    "    elif month in [6, 7, 8]:\n",
    "        return \"Summer\"\n",
    "    else:\n",
    "        return \"Fall\"\n",
    "\n",
    "# Convert \"Date\" column to datetime format (if not already)\n",
    "df_cleaned[\"Date\"] = pd.to_datetime(df_cleaned[\"Date\"])\n",
    "\n",
    "# Apply the function to categorize each date into a season\n",
    "df_cleaned[\"Season\"] = df_cleaned[\"Date\"].apply(categorize_season)\n",
    "\n",
    "# Remove the \"Date\" column after categorizing into seasons\n",
    "df_cleaned = df_cleaned.drop(columns=[\"Date\"], errors=\"ignore\")\n",
    "\n",
    "# Display the first few rows to verify\n",
    "print(df_cleaned.head())\n",
    "\n"
   ]
  },
  {
   "cell_type": "code",
   "execution_count": 35,
   "metadata": {},
   "outputs": [
    {
     "name": "stdout",
     "output_type": "stream",
     "text": [
      "       Day             Station   Code  Min Delay  Min Gap Bound Line Vehicle  \\\n",
      "1   Sunday     KIPLING STATION   MUIS          0        0     E   BD    5341   \n",
      "14  Sunday    EGLINTON STATION    SUG          6       12     S   YU    5771   \n",
      "16  Sunday    EGLINTON STATION  TUNOA          6       12     N   YU    6131   \n",
      "18  Sunday    EGLINTON STATION  PUSRA          4        8     S   YU    5851   \n",
      "36  Sunday  KENNEDY BD STATION   EUVA          6       12     W   BD    5141   \n",
      "\n",
      "    Delayed  Season Time Period  \n",
      "1         0  Winter       Night  \n",
      "14        1  Winter     Morning  \n",
      "16        1  Winter     Morning  \n",
      "18        1  Winter     Morning  \n",
      "36        1  Winter       Night  \n"
     ]
    }
   ],
   "source": [
    "# Define time categories based on the hour of the day\n",
    "def categorize_time(time):\n",
    "    hour = int(time.split(\":\")[0])  # Extract hour from time string\n",
    "    if 5 <= hour < 12:\n",
    "        return \"Morning\"\n",
    "    elif 12 <= hour < 17:\n",
    "        return \"Afternoon\"\n",
    "    elif 17 <= hour < 21:\n",
    "        return \"Evening\"\n",
    "    else:\n",
    "        return \"Night\"\n",
    "\n",
    "# Apply the function to categorize each time into a time period\n",
    "df_cleaned[\"Time Period\"] = df_cleaned[\"Time\"].apply(categorize_time)\n",
    "\n",
    "# Remove the original \"Time\" column\n",
    "\n",
    "df_cleaned = df_cleaned.drop(columns=[\"Time\"], errors=\"ignore\")\n",
    "\n",
    "# Display the first few rows to verify\n",
    "\n",
    "print(df_cleaned.head())\n"
   ]
  },
  {
   "cell_type": "code",
   "execution_count": 36,
   "metadata": {},
   "outputs": [
    {
     "name": "stdout",
     "output_type": "stream",
     "text": [
      "     Code               Issue Category\n",
      "1    MUIS                        Other\n",
      "14    SUG                        Other\n",
      "16  TUNOA  Human & Operational Factors\n",
      "18  PUSRA                        Other\n",
      "36   EUVA                        Other\n"
     ]
    }
   ],
   "source": [
    "import pandas as pd\n",
    "\n",
    "# Define a dictionary mapping each Code to its corresponding category\n",
    "issue_categories = {\n",
    "    \"Electrical and Mechanical Systems (Train Equipment & Power)\": \n",
    "        [\"EUAC\", \"ERAC\", \"EUAL\", \"EUATC\", \"EUCH\", \"EUHV\", \"ERHV\", \"EULT\", \"ERLT\", \"EULV\", \n",
    "         \"ERLV\", \"EUPI\", \"ERPR\", \"EUSC\", \"MUSC\", \"EUTM\", \"EUTL\", \"ERTL\", \"PRSP\", \"PUSTP\", \n",
    "         \"PUSCA\", \"PUSI\", \"PUSIO\", \"PUSIS\", \"PUSNT\", \"TUDOE\", \"TRDOE\"],\n",
    "\n",
    "    \"Train Operations & Control Systems\": \n",
    "        [\"ERTC\", \"PRSA\", \"PUSAC\", \"PRSL\", \"PRSO\", \"PUATC\", \"PRSW\", \"PRTST\", \"PUSTS\", \"PUCBI\", \n",
    "         \"PUCSS\", \"PUSLC\", \"PUTSC\", \"PUCSS\", \"PUDCS\", \"PUOPO\", \"PUSBE\", \"PUSSW\", \"PUSTC\", \n",
    "         \"PUSWZ\", \"PUSZC\", \"TUCC\", \"TRTC\", \"TUSET\", \"TRSET\"],\n",
    "\n",
    "    \"Structural & Track-Related Issues\": \n",
    "        [\"PRW\", \"PUTR\", \"PUTTP\", \"PUTCD\", \"PUTD\", \"PUTIJ\", \"PUTNT\", \"PUTO\", \"PUTOE\", \"TUOPO\", \n",
    "         \"PUTS\", \"PUTSM\", \"PUTTC\", \"PUTWZ\", \"PUSO\"],\n",
    "\n",
    "    \"Human & Operational Factors\": \n",
    "        [\"MUESA\", \"TUNOA\", \"TRNOA\", \"TUKEY\", \"TUML\", \"TUMVS\", \"TUNIP\", \"TRNIP\", \"TUO\", \"TRO\", \n",
    "         \"TUOS\", \"TUS\", \"TUSC\", \"TUSUP\", \"MUWR\", \"MUIE\", \"MRIE\", \"SUAE\", \"SRAE\", \"SUCOL\", \n",
    "         \"SRCOL\", \"SUEAS\", \"SREAS\", \"PUSEA\", \"SUO\", \"SRO\"],\n",
    "\n",
    "    \"Miscellaneous & Passenger-Related Incidents\": \n",
    "        [\"EUDO\", \"ERDO\", \"EUOE\", \"MUCL\", \"MRCL\", \"MUEC\", \"MREC\", \"MUGD\", \"MUODC\", \"MUPAA\", \n",
    "         \"MRPAA\", \"PUMEL\", \"PREL\", \"PRO\", \"PRS\", \"PUMST\", \"PRST\", \"PUMO\", \"MUTO\", \"MUO\", \"MRO\"]\n",
    "}\n",
    "\n",
    "# Create a function to categorize issues based on their Code\n",
    "def categorize_issue(code):\n",
    "    for category, codes in issue_categories.items():\n",
    "        if code in codes:\n",
    "            return category\n",
    "    return \"Other\"  # Default category if not found\n",
    "\n",
    "# Apply the categorization to create a new column \"Issue Category\"\n",
    "df_cleaned[\"Issue Category\"] = df_cleaned[\"Code\"].apply(categorize_issue)\n",
    "\n",
    "# Display the first few rows to verify the categorization\n",
    "print(df_cleaned[[\"Code\", \"Issue Category\"]].head())\n"
   ]
  },
  {
   "cell_type": "code",
   "execution_count": 37,
   "metadata": {},
   "outputs": [
    {
     "name": "stdout",
     "output_type": "stream",
     "text": [
      "                                      Issue Category  Count\n",
      "0                                              Other   3879\n",
      "1                        Human & Operational Factors   1683\n",
      "2        Miscellaneous & Passenger-Related Incidents   1097\n",
      "3  Electrical and Mechanical Systems (Train Equip...    544\n",
      "4                 Train Operations & Control Systems    396\n",
      "5                  Structural & Track-Related Issues    145\n"
     ]
    }
   ],
   "source": [
    "import pandas as pd\n",
    "\n",
    "# Count occurrences of each Issue Category\n",
    "issue_category_counts = df_cleaned[\"Issue Category\"].value_counts()\n",
    "\n",
    "# Convert to DataFrame for better readability\n",
    "issue_category_counts_df = issue_category_counts.to_frame().reset_index()\n",
    "issue_category_counts_df.columns = [\"Issue Category\", \"Count\"]\n",
    "\n",
    "# Display the counts\n",
    "print(issue_category_counts_df)\n"
   ]
  },
  {
   "cell_type": "code",
   "execution_count": 38,
   "metadata": {},
   "outputs": [
    {
     "data": {
      "text/html": [
       "<div>\n",
       "<style scoped>\n",
       "    .dataframe tbody tr th:only-of-type {\n",
       "        vertical-align: middle;\n",
       "    }\n",
       "\n",
       "    .dataframe tbody tr th {\n",
       "        vertical-align: top;\n",
       "    }\n",
       "\n",
       "    .dataframe thead th {\n",
       "        text-align: right;\n",
       "    }\n",
       "</style>\n",
       "<table border=\"1\" class=\"dataframe\">\n",
       "  <thead>\n",
       "    <tr style=\"text-align: right;\">\n",
       "      <th></th>\n",
       "      <th>Day</th>\n",
       "      <th>Station</th>\n",
       "      <th>Code</th>\n",
       "      <th>Min Delay</th>\n",
       "      <th>Min Gap</th>\n",
       "      <th>Bound</th>\n",
       "      <th>Line</th>\n",
       "      <th>Vehicle</th>\n",
       "      <th>Delayed</th>\n",
       "      <th>Season</th>\n",
       "      <th>Time Period</th>\n",
       "      <th>Issue Category</th>\n",
       "    </tr>\n",
       "  </thead>\n",
       "  <tbody>\n",
       "    <tr>\n",
       "      <th>1</th>\n",
       "      <td>Sunday</td>\n",
       "      <td>KIPLING STATION</td>\n",
       "      <td>MUIS</td>\n",
       "      <td>0</td>\n",
       "      <td>0</td>\n",
       "      <td>E</td>\n",
       "      <td>BD</td>\n",
       "      <td>5341</td>\n",
       "      <td>0</td>\n",
       "      <td>Winter</td>\n",
       "      <td>Night</td>\n",
       "      <td>Other</td>\n",
       "    </tr>\n",
       "    <tr>\n",
       "      <th>14</th>\n",
       "      <td>Sunday</td>\n",
       "      <td>EGLINTON STATION</td>\n",
       "      <td>SUG</td>\n",
       "      <td>6</td>\n",
       "      <td>12</td>\n",
       "      <td>S</td>\n",
       "      <td>YU</td>\n",
       "      <td>5771</td>\n",
       "      <td>1</td>\n",
       "      <td>Winter</td>\n",
       "      <td>Morning</td>\n",
       "      <td>Other</td>\n",
       "    </tr>\n",
       "    <tr>\n",
       "      <th>16</th>\n",
       "      <td>Sunday</td>\n",
       "      <td>EGLINTON STATION</td>\n",
       "      <td>TUNOA</td>\n",
       "      <td>6</td>\n",
       "      <td>12</td>\n",
       "      <td>N</td>\n",
       "      <td>YU</td>\n",
       "      <td>6131</td>\n",
       "      <td>1</td>\n",
       "      <td>Winter</td>\n",
       "      <td>Morning</td>\n",
       "      <td>Human &amp; Operational Factors</td>\n",
       "    </tr>\n",
       "    <tr>\n",
       "      <th>18</th>\n",
       "      <td>Sunday</td>\n",
       "      <td>EGLINTON STATION</td>\n",
       "      <td>PUSRA</td>\n",
       "      <td>4</td>\n",
       "      <td>8</td>\n",
       "      <td>S</td>\n",
       "      <td>YU</td>\n",
       "      <td>5851</td>\n",
       "      <td>1</td>\n",
       "      <td>Winter</td>\n",
       "      <td>Morning</td>\n",
       "      <td>Other</td>\n",
       "    </tr>\n",
       "    <tr>\n",
       "      <th>36</th>\n",
       "      <td>Sunday</td>\n",
       "      <td>KENNEDY BD STATION</td>\n",
       "      <td>EUVA</td>\n",
       "      <td>6</td>\n",
       "      <td>12</td>\n",
       "      <td>W</td>\n",
       "      <td>BD</td>\n",
       "      <td>5141</td>\n",
       "      <td>1</td>\n",
       "      <td>Winter</td>\n",
       "      <td>Night</td>\n",
       "      <td>Other</td>\n",
       "    </tr>\n",
       "    <tr>\n",
       "      <th>...</th>\n",
       "      <td>...</td>\n",
       "      <td>...</td>\n",
       "      <td>...</td>\n",
       "      <td>...</td>\n",
       "      <td>...</td>\n",
       "      <td>...</td>\n",
       "      <td>...</td>\n",
       "      <td>...</td>\n",
       "      <td>...</td>\n",
       "      <td>...</td>\n",
       "      <td>...</td>\n",
       "      <td>...</td>\n",
       "    </tr>\n",
       "    <tr>\n",
       "      <th>69248</th>\n",
       "      <td>Tuesday</td>\n",
       "      <td>KIPLING STATION</td>\n",
       "      <td>MUI</td>\n",
       "      <td>3</td>\n",
       "      <td>6</td>\n",
       "      <td>W</td>\n",
       "      <td>BD</td>\n",
       "      <td>5077</td>\n",
       "      <td>1</td>\n",
       "      <td>Winter</td>\n",
       "      <td>Afternoon</td>\n",
       "      <td>Other</td>\n",
       "    </tr>\n",
       "    <tr>\n",
       "      <th>69250</th>\n",
       "      <td>Tuesday</td>\n",
       "      <td>FINCH STATION</td>\n",
       "      <td>PUOPO</td>\n",
       "      <td>0</td>\n",
       "      <td>0</td>\n",
       "      <td>S</td>\n",
       "      <td>YU</td>\n",
       "      <td>5791</td>\n",
       "      <td>0</td>\n",
       "      <td>Winter</td>\n",
       "      <td>Afternoon</td>\n",
       "      <td>Train Operations &amp; Control Systems</td>\n",
       "    </tr>\n",
       "    <tr>\n",
       "      <th>69268</th>\n",
       "      <td>Tuesday</td>\n",
       "      <td>KENNEDY BD STATION</td>\n",
       "      <td>TUSC</td>\n",
       "      <td>0</td>\n",
       "      <td>0</td>\n",
       "      <td>E</td>\n",
       "      <td>BD</td>\n",
       "      <td>5324</td>\n",
       "      <td>0</td>\n",
       "      <td>Winter</td>\n",
       "      <td>Evening</td>\n",
       "      <td>Human &amp; Operational Factors</td>\n",
       "    </tr>\n",
       "    <tr>\n",
       "      <th>69287</th>\n",
       "      <td>Tuesday</td>\n",
       "      <td>KIPLING STATION</td>\n",
       "      <td>TUSC</td>\n",
       "      <td>0</td>\n",
       "      <td>0</td>\n",
       "      <td>W</td>\n",
       "      <td>BD</td>\n",
       "      <td>5323</td>\n",
       "      <td>0</td>\n",
       "      <td>Winter</td>\n",
       "      <td>Night</td>\n",
       "      <td>Human &amp; Operational Factors</td>\n",
       "    </tr>\n",
       "    <tr>\n",
       "      <th>69306</th>\n",
       "      <td>Tuesday</td>\n",
       "      <td>KENNEDY BD STATION</td>\n",
       "      <td>MUTO</td>\n",
       "      <td>0</td>\n",
       "      <td>0</td>\n",
       "      <td>E</td>\n",
       "      <td>BD</td>\n",
       "      <td>5338</td>\n",
       "      <td>0</td>\n",
       "      <td>Winter</td>\n",
       "      <td>Night</td>\n",
       "      <td>Miscellaneous &amp; Passenger-Related Incidents</td>\n",
       "    </tr>\n",
       "  </tbody>\n",
       "</table>\n",
       "<p>7744 rows × 12 columns</p>\n",
       "</div>"
      ],
      "text/plain": [
       "           Day             Station   Code  Min Delay  Min Gap Bound Line  \\\n",
       "1       Sunday     KIPLING STATION   MUIS          0        0     E   BD   \n",
       "14      Sunday    EGLINTON STATION    SUG          6       12     S   YU   \n",
       "16      Sunday    EGLINTON STATION  TUNOA          6       12     N   YU   \n",
       "18      Sunday    EGLINTON STATION  PUSRA          4        8     S   YU   \n",
       "36      Sunday  KENNEDY BD STATION   EUVA          6       12     W   BD   \n",
       "...        ...                 ...    ...        ...      ...   ...  ...   \n",
       "69248  Tuesday     KIPLING STATION    MUI          3        6     W   BD   \n",
       "69250  Tuesday       FINCH STATION  PUOPO          0        0     S   YU   \n",
       "69268  Tuesday  KENNEDY BD STATION   TUSC          0        0     E   BD   \n",
       "69287  Tuesday     KIPLING STATION   TUSC          0        0     W   BD   \n",
       "69306  Tuesday  KENNEDY BD STATION   MUTO          0        0     E   BD   \n",
       "\n",
       "      Vehicle  Delayed  Season Time Period  \\\n",
       "1        5341        0  Winter       Night   \n",
       "14       5771        1  Winter     Morning   \n",
       "16       6131        1  Winter     Morning   \n",
       "18       5851        1  Winter     Morning   \n",
       "36       5141        1  Winter       Night   \n",
       "...       ...      ...     ...         ...   \n",
       "69248    5077        1  Winter   Afternoon   \n",
       "69250    5791        0  Winter   Afternoon   \n",
       "69268    5324        0  Winter     Evening   \n",
       "69287    5323        0  Winter       Night   \n",
       "69306    5338        0  Winter       Night   \n",
       "\n",
       "                                    Issue Category  \n",
       "1                                            Other  \n",
       "14                                           Other  \n",
       "16                     Human & Operational Factors  \n",
       "18                                           Other  \n",
       "36                                           Other  \n",
       "...                                            ...  \n",
       "69248                                        Other  \n",
       "69250           Train Operations & Control Systems  \n",
       "69268                  Human & Operational Factors  \n",
       "69287                  Human & Operational Factors  \n",
       "69306  Miscellaneous & Passenger-Related Incidents  \n",
       "\n",
       "[7744 rows x 12 columns]"
      ]
     },
     "execution_count": 38,
     "metadata": {},
     "output_type": "execute_result"
    }
   ],
   "source": [
    "df_cleaned"
   ]
  },
  {
   "cell_type": "code",
   "execution_count": 39,
   "metadata": {},
   "outputs": [
    {
     "name": "stdout",
     "output_type": "stream",
     "text": [
      "       Day             Station  Min Delay  Min Gap Bound Line Vehicle  \\\n",
      "1   Sunday     KIPLING STATION          0        0     E   BD    5341   \n",
      "14  Sunday    EGLINTON STATION          6       12     S   YU    5771   \n",
      "16  Sunday    EGLINTON STATION          6       12     N   YU    6131   \n",
      "18  Sunday    EGLINTON STATION          4        8     S   YU    5851   \n",
      "36  Sunday  KENNEDY BD STATION          6       12     W   BD    5141   \n",
      "\n",
      "    Delayed  Season Time Period               Issue Category  \n",
      "1         0  Winter       Night                        Other  \n",
      "14        1  Winter     Morning                        Other  \n",
      "16        1  Winter     Morning  Human & Operational Factors  \n",
      "18        1  Winter     Morning                        Other  \n",
      "36        1  Winter       Night                        Other  \n"
     ]
    }
   ],
   "source": [
    "import pandas as pd\n",
    "\n",
    "# Remove specified columns from df_cleaned\n",
    "df_cleaned = df_cleaned.drop(columns=[\"Delay Band\", \"Code\"], errors=\"ignore\")\n",
    "\n",
    "# Display the first few rows to verify\n",
    "print(df_cleaned.head())"
   ]
  },
  {
   "cell_type": "code",
   "execution_count": 40,
   "metadata": {},
   "outputs": [
    {
     "name": "stdout",
     "output_type": "stream",
     "text": [
      "    Delayed  Season     Day Time Period             Station Bound Line  \\\n",
      "1         0  Winter  Sunday       Night     KIPLING STATION     E   BD   \n",
      "14        1  Winter  Sunday     Morning    EGLINTON STATION     S   YU   \n",
      "16        1  Winter  Sunday     Morning    EGLINTON STATION     N   YU   \n",
      "18        1  Winter  Sunday     Morning    EGLINTON STATION     S   YU   \n",
      "36        1  Winter  Sunday       Night  KENNEDY BD STATION     W   BD   \n",
      "\n",
      "    Min Gap               Issue Category  \n",
      "1         0                        Other  \n",
      "14       12                        Other  \n",
      "16       12  Human & Operational Factors  \n",
      "18        8                        Other  \n",
      "36       12                        Other  \n"
     ]
    }
   ],
   "source": [
    "# Reorder the columns in df_cleaned\n",
    "df_cleaned = df_cleaned[[\n",
    "    \"Delayed\", \"Season\", \"Day\", \"Time Period\", \n",
    "    \"Station\", \"Bound\", \"Line\", \"Min Gap\", \"Issue Category\"\n",
    "]]\n",
    "\n",
    "# Display the first few rows to verify the order\n",
    "print(df_cleaned.head())"
   ]
  },
  {
   "cell_type": "code",
   "execution_count": 41,
   "metadata": {},
   "outputs": [],
   "source": [
    "df_cleaned.to_csv(\"df_cleaned.csv\", index=False)"
   ]
  },
  {
   "cell_type": "code",
   "execution_count": 42,
   "metadata": {},
   "outputs": [],
   "source": [
    "from sklearn.preprocessing import LabelEncoder\n",
    "\n",
    "# Encode \"Season\" as numerical values\n",
    "le_season = LabelEncoder()\n",
    "df_cleaned[\"Season\"] = le_season.fit_transform(df_cleaned[\"Season\"])\n",
    "\n",
    "# Count occurrences of delays by season\n",
    "season_counts = df_cleaned[\"Season\"].value_counts()\n",
    "\n",
    "# Encode \"Day\" as numerical values\n",
    "le_season = LabelEncoder()\n",
    "df_cleaned[\"Day\"] = le_season.fit_transform(df_cleaned[\"Day\"])\n",
    "\n",
    "# Encode \"Station\" as numerical values\n",
    "le_season = LabelEncoder()\n",
    "df_cleaned[\"Station\"] = le_season.fit_transform(df_cleaned[\"Station\"])\n",
    "\n",
    "# Encode \"Bound\" as numerical values\n",
    "le_season = LabelEncoder()\n",
    "df_cleaned[\"Bound\"] = le_season.fit_transform(df_cleaned[\"Bound\"])\n",
    "\n",
    "# Encode \"Station\" as numerical values\n",
    "le_season = LabelEncoder()\n",
    "df_cleaned[\"Line\"] = le_season.fit_transform(df_cleaned[\"Line\"])\n",
    "\n",
    "# Encode \"Issue Category\" as numerical values\n",
    "le_season = LabelEncoder()\n",
    "df_cleaned[\"Issue Category\"] = le_season.fit_transform(df_cleaned[\"Issue Category\"])\n",
    "\n",
    "# Encode \"Time Period\" as numerical values\n",
    "le_season = LabelEncoder()\n",
    "df_cleaned[\"Time Period\"] = le_season.fit_transform(df_cleaned[\"Time Period\"])"
   ]
  },
  {
   "cell_type": "code",
   "execution_count": 43,
   "metadata": {},
   "outputs": [
    {
     "name": "stdout",
     "output_type": "stream",
     "text": [
      "Logistic Regression Model Performance:\n",
      "Accuracy: 0.62\n",
      "Precision: 0.64\n",
      "Recall: 0.87\n",
      "\n",
      "Confusion Matrix:\n",
      "[[140 466]\n",
      " [120 823]]\n"
     ]
    }
   ],
   "source": [
    "import pandas as pd\n",
    "import numpy as np\n",
    "import matplotlib.pyplot as plt\n",
    "import seaborn as sns\n",
    "from sklearn.model_selection import train_test_split\n",
    "from sklearn.preprocessing import LabelEncoder, StandardScaler\n",
    "from sklearn.linear_model import LogisticRegression\n",
    "from sklearn.metrics import accuracy_score, precision_score, recall_score, f1_score, confusion_matrix\n",
    "\n",
    "# Encode categorical variables\n",
    "categorical_features = [\"Day\", \"Station\", \"Bound\", \"Line\", \"Season\", \"Time Period\", \"Issue Category\"]\n",
    "label_encoders = {}\n",
    "\n",
    "for col in categorical_features:\n",
    "    le = LabelEncoder()\n",
    "    df_cleaned[col] = le.fit_transform(df_cleaned[col])  # Convert categories to numerical values\n",
    "    label_encoders[col] = le  # Store encoders for future use\n",
    "\n",
    "# Define the target variable and predictor variables\n",
    "X = df_cleaned.drop(columns=[\"Delayed\",\"Min Gap\"])  # All variables except \"Delayed\"\n",
    "y = df_cleaned[\"Delayed\"]  # Target variable (1 = delayed, 0 = not delayed)\n",
    "\n",
    "# Split data into training (80%) and testing (20%) sets\n",
    "X_train, X_test, y_train, y_test = train_test_split(X, y, test_size=0.2, random_state=42)\n",
    "\n",
    "# Standardize numerical features (improves model performance)\n",
    "scaler = StandardScaler()\n",
    "X_train = scaler.fit_transform(X_train)\n",
    "X_test = scaler.transform(X_test)\n",
    "\n",
    "# Train the Logistic Regression model\n",
    "log_model = LogisticRegression()\n",
    "log_model.fit(X_train, y_train)\n",
    "\n",
    "# Make predictions\n",
    "y_pred = log_model.predict(X_test)\n",
    "\n",
    "# Evaluate model performance\n",
    "accuracy = accuracy_score(y_test, y_pred)\n",
    "precision = precision_score(y_test, y_pred)\n",
    "recall = recall_score(y_test, y_pred)\n",
    "\n",
    "# Display model performance metrics\n",
    "print(\"Logistic Regression Model Performance:\")\n",
    "print(f\"Accuracy: {accuracy:.2f}\")\n",
    "print(f\"Precision: {precision:.2f}\")\n",
    "print(f\"Recall: {recall:.2f}\")\n",
    "\n",
    "\n",
    "# Confusion Matrix\n",
    "conf_matrix = confusion_matrix(y_test, y_pred)\n",
    "print(\"\\nConfusion Matrix:\")\n",
    "print(conf_matrix)\n"
   ]
  },
  {
   "cell_type": "code",
   "execution_count": null,
   "metadata": {},
   "outputs": [
    {
     "name": "stderr",
     "output_type": "stream",
     "text": [
      "C:\\Users\\ufift\\AppData\\Local\\Temp\\ipykernel_9404\\582941505.py:21: FutureWarning: \n",
      "\n",
      "Passing `palette` without assigning `hue` is deprecated and will be removed in v0.14.0. Assign the `y` variable to `hue` and set `legend=False` for the same effect.\n",
      "\n",
      "  sns.barplot(x='Importance', y='Feature', data=importance_df, palette=\"viridis\")\n"
     ]
    },
    {
     "data": {
      "image/png": "[encoded data removed]",
      "text/plain": [
       "<Figure size 1000x500 with 1 Axes>"
      ]
     },
     "metadata": {},
     "output_type": "display_data"
    }
   ],
   "source": [
    "import numpy as np\n",
    "import pandas as pd\n",
    "import matplotlib.pyplot as plt\n",
    "import seaborn as sns\n",
    "from sklearn.linear_model import LogisticRegression\n",
    "from sklearn.datasets import make_classification\n",
    "from sklearn.model_selection import train_test_split\n",
    "from sklearn.preprocessing import StandardScaler\n",
    "\n",
    "\n",
    "\n",
    "# Get Feature Importance (Absolute Coefficients)\n",
    "feature_importance = np.abs(log_model.coef_[0])\n",
    "\n",
    "# Create DataFrame for Visualization\n",
    "importance_df = pd.DataFrame({'Feature': X.columns, 'Importance': feature_importance})\n",
    "importance_df = importance_df.sort_values(by=\"Importance\", ascending=False)\n",
    "\n",
    "# Plot Feature Importance\n",
    "plt.figure(figsize=(10, 5))\n",
    "sns.barplot(x='Importance', y='Feature', data=importance_df, palette=\"viridis\")\n",
    "plt.xlabel(\"Coefficient Magnitude (Feature Importance)\")\n",
    "plt.ylabel(\"Feature Names\")\n",
    "plt.title(\"Feature Importance in Logistic Regression\")\n",
    "plt.show()\n"
   ]
  },
  {
   "cell_type": "code",
   "execution_count": 51,
   "metadata": {},
   "outputs": [
    {
     "name": "stdout",
     "output_type": "stream",
     "text": [
      "Random Forest Model Performance:\n",
      "Accuracy: 0.66\n",
      "Precision: 0.72\n",
      "Recall: 0.74\n",
      "\n",
      "Confusion Matrix:\n",
      "[[329 277]\n",
      " [242 701]]\n"
     ]
    }
   ],
   "source": [
    "from sklearn.ensemble import RandomForestClassifier\n",
    "from sklearn.metrics import accuracy_score, precision_score, recall_score, f1_score, confusion_matrix\n",
    "\n",
    "# Train a Random Forest Classifier\n",
    "rf_model = RandomForestClassifier(n_estimators=100, random_state=42)\n",
    "rf_model.fit(X_train, y_train)\n",
    "\n",
    "# Make predictions\n",
    "y_pred_rf = rf_model.predict(X_test)\n",
    "\n",
    "# Evaluate model performance\n",
    "accuracy = accuracy_score(y_test, y_pred_rf)\n",
    "precision = precision_score(y_test, y_pred_rf)\n",
    "recall = recall_score(y_test, y_pred_rf)\n",
    "\n",
    "\n",
    "# Display model performance metrics\n",
    "print(\"Random Forest Model Performance:\")\n",
    "print(f\"Accuracy: {accuracy:.2f}\")\n",
    "print(f\"Precision: {precision:.2f}\")\n",
    "print(f\"Recall: {recall:.2f}\")\n",
    "\n",
    "\n",
    "# Confusion Matrix\n",
    "conf_matrix = confusion_matrix(y_test, y_pred_rf)\n",
    "print(\"\\nConfusion Matrix:\")\n",
    "print(conf_matrix)\n"
   ]
  },
  {
   "cell_type": "code",
   "execution_count": 54,
   "metadata": {},
   "outputs": [
    {
     "name": "stderr",
     "output_type": "stream",
     "text": [
      "C:\\Users\\ufift\\AppData\\Local\\Temp\\ipykernel_9404\\2822684852.py:16: FutureWarning: \n",
      "\n",
      "Passing `palette` without assigning `hue` is deprecated and will be removed in v0.14.0. Assign the `y` variable to `hue` and set `legend=False` for the same effect.\n",
      "\n",
      "  sns.barplot(x='Importance', y='Feature', data=importance_df, palette=\"viridis\")\n"
     ]
    },
    {
     "data": {
      "image/png": "[encoded data removed]",
      "text/plain": [
       "<Figure size 1000x500 with 1 Axes>"
      ]
     },
     "metadata": {},
     "output_type": "display_data"
    }
   ],
   "source": [
    "import numpy as np\n",
    "import pandas as pd\n",
    "import matplotlib.pyplot as plt\n",
    "import seaborn as sns\n",
    "from sklearn.ensemble import RandomForestClassifier\n",
    "\n",
    "# Get Feature Importance (Absolute Coefficients)\n",
    "feature_importance = rf_model.feature_importances_\n",
    "\n",
    "# Create DataFrame for Visualization\n",
    "importance_df = pd.DataFrame({'Feature': X.columns, 'Importance': feature_importance})\n",
    "importance_df = importance_df.sort_values(by=\"Importance\", ascending=False)\n",
    "\n",
    "# Plot Feature Importance\n",
    "plt.figure(figsize=(10, 5))\n",
    "sns.barplot(x='Importance', y='Feature', data=importance_df, palette=\"viridis\")\n",
    "plt.xlabel(\"Coefficient Magnitude (Feature Importance)\")\n",
    "plt.ylabel(\"Feature Names\")\n",
    "plt.title(\"Feature Importance in Logistic Regression\")\n",
    "plt.show()"
   ]
  }
 ],
 "metadata": {
  "kernelspec": {
   "display_name": "dsi_participant",
   "language": "python",
   "name": "python3"
  },
  "language_info": {
   "codemirror_mode": {
    "name": "ipython",
    "version": 3
   },
   "file_extension": ".py",
   "mimetype": "text/x-python",
   "name": "python",
   "nbconvert_exporter": "python",
   "pygments_lexer": "ipython3",
   "version": "3.9.15"
  }
 },
 "nbformat": 4,
 "nbformat_minor": 2
}
