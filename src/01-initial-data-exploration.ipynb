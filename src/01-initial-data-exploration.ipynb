{
 "cells": [
  {
   "cell_type": "markdown",
   "metadata": {},
   "source": [
    "## Explore the dataset"
   ]
  },
  {
   "cell_type": "markdown",
   "metadata": {},
   "source": [
    "Requirements:\n",
    " - Install the `openpyxl` module to be able to read XLSX files:\n",
    "    ```bash\n",
    "    # Activate virtual envoironment\n",
    "    conda activate dsi_participant\n",
    "    # Install the module\n",
    "    conda install openpyxl\n",
    "    ```"
   ]
  },
  {
   "cell_type": "markdown",
   "metadata": {},
   "source": [
    "### First, let's get the URLS of the dataset files\n",
    "Here, we are downloading all the data available from 2014 to 2025  \n",
    "It can be filtered later, after merging downloaded data"
   ]
  },
  {
   "cell_type": "code",
   "execution_count": 1,
   "metadata": {},
   "outputs": [
    {
     "name": "stdout",
     "output_type": "stream",
     "text": [
      "Data files URLs:\n",
      " ['https://ckan0.cf.opendata.inter.prod-toronto.ca/dataset/996cfe8d-fb35-40ce-b569-698d51fc683b/resource/441143ca-8194-44ce-a954-19f8141817c7/download/ttc-subway-delay-2022.xlsx', 'https://ckan0.cf.opendata.inter.prod-toronto.ca/dataset/996cfe8d-fb35-40ce-b569-698d51fc683b/resource/2fbec48b-33d9-4897-a572-96c9f002d66a/download/ttc-subway-delay-2023.xlsx', 'https://ckan0.cf.opendata.inter.prod-toronto.ca/dataset/996cfe8d-fb35-40ce-b569-698d51fc683b/resource/2ee1a65c-da06-4ad1-bdfb-b1a57701e46a/download/ttc-subway-delay-2024.xlsx']\n",
      "Reference files:\n",
      " ['https://ckan0.cf.opendata.inter.prod-toronto.ca/dataset/996cfe8d-fb35-40ce-b569-698d51fc683b/resource/3900e649-f31e-4b79-9f20-4731bbfd94f7/download/ttc-subway-delay-codes.xlsx', 'https://ckan0.cf.opendata.inter.prod-toronto.ca/dataset/996cfe8d-fb35-40ce-b569-698d51fc683b/resource/ca43ac3d-3940-4315-889b-a9375e7b8aa4/download/ttc-subway-delay-readme.xlsx']\n"
     ]
    }
   ],
   "source": [
    "import json\n",
    "import os\n",
    "import requests\n",
    "\n",
    "# Using https://open.toronto.ca/dataset/ttc-subway-delay-data/ as reference (For developers section)\n",
    "# See https://docs.ckan.org/en/latest/api/index.html for more information\n",
    "\n",
    "base_url = \"https://ckan0.cf.opendata.inter.prod-toronto.ca\"\n",
    "url = base_url + \"/api/3/action/package_show\"\n",
    "params = { \"id\": \"ttc-subway-delay-data\"}\n",
    "package = requests.get(url, params=params).json()\n",
    "# We want the XLSX files from non-datastore_active resources for years 2022-2024\n",
    "data_resource_urls = [resource[\"url\"] for resource in package[\"result\"][\"resources\"] if resource[\"format\"] in 'XLSX' and not resource[\"datastore_active\"] and any(year in resource[\"name\"] for year in [\"2022\", \"2023\", \"2024\"])]\n",
    "print('Data files URLs:\\n',data_resource_urls)\n",
    "ref_resource_urls = [resource[\"url\"] for resource in package[\"result\"][\"resources\"] if resource[\"format\"] in 'XLSX' and not resource[\"datastore_active\"] and any(refname in resource[\"name\"] for refname in [\"codes\", \"readme\"])]\n",
    "print('Reference files:\\n',ref_resource_urls)"
   ]
  },
  {
   "cell_type": "markdown",
   "metadata": {},
   "source": [
    "### Next, let's create corresponding data directories\n",
    "Here, we have to have separate the reference data (e.g. delay codes and readme) from the actual data"
   ]
  },
  {
   "cell_type": "code",
   "execution_count": 2,
   "metadata": {},
   "outputs": [],
   "source": [
    "# Create directories if they don't exist\n",
    "# Note: path is relative to the path of the notebook\n",
    "reference_dir = '../data/raw/reference-data'\n",
    "delay_data_dir = '../data/raw/delay-data'\n",
    "os.makedirs(reference_dir, exist_ok=True)\n",
    "os.makedirs(delay_data_dir, exist_ok=True)"
   ]
  },
  {
   "cell_type": "markdown",
   "metadata": {},
   "source": [
    "### Download the data\n",
    "Here, we download files to the directories accordingly"
   ]
  },
  {
   "cell_type": "code",
   "execution_count": 3,
   "metadata": {},
   "outputs": [
    {
     "name": "stdout",
     "output_type": "stream",
     "text": [
      "File already exists: ../data/raw/delay-data/ttc-subway-delay-2022.xlsx\n",
      "File already exists: ../data/raw/delay-data/ttc-subway-delay-2023.xlsx\n",
      "File already exists: ../data/raw/delay-data/ttc-subway-delay-2024.xlsx\n",
      "File already exists: ../data/raw/reference-data/ttc-subway-delay-codes.xlsx\n",
      "File already exists: ../data/raw/reference-data/ttc-subway-delay-readme.xlsx\n"
     ]
    }
   ],
   "source": [
    "# Download dataset files\n",
    "for url in data_resource_urls + ref_resource_urls:\n",
    "    filename = os.path.basename(url)\n",
    "    if 'delay-codes' in filename or 'delay-readme' in filename:\n",
    "        target_dir = reference_dir\n",
    "    else:\n",
    "        target_dir = delay_data_dir\n",
    "\n",
    "    response = requests.get(url)\n",
    "    file_path = os.path.join(target_dir, filename)\n",
    "\n",
    "    if os.path.exists(file_path):\n",
    "        print(f\"File already exists: {file_path}\")\n",
    "    else:\n",
    "        print(f\"Saving file from {url} to {file_path}\")\n",
    "        with open(file_path, 'wb') as f:\n",
    "            f.write(response.content)\n"
   ]
  },
  {
   "cell_type": "markdown",
   "metadata": {},
   "source": [
    "### Load data from files to pandas dataframe"
   ]
  },
  {
   "cell_type": "code",
   "execution_count": 4,
   "metadata": {},
   "outputs": [
    {
     "name": "stdout",
     "output_type": "stream",
     "text": [
      "ttc-subway-delay-2022.xlsx head:\n",
      "        Date   Time       Day                 Station   Code  Min Delay  \\\n",
      "0 2022-01-01  15:59  Saturday   LAWRENCE EAST STATION   SRDP          0   \n",
      "1 2022-01-01  02:23  Saturday      SPADINA BD STATION   MUIS          0   \n",
      "2 2022-01-01  22:00  Saturday  KENNEDY SRT STATION TO    MRO          0   \n",
      "3 2022-01-01  02:28  Saturday      VAUGHAN MC STATION   MUIS          0   \n",
      "4 2022-01-01  02:34  Saturday        EGLINTON STATION  MUATC          0   \n",
      "\n",
      "   Min Gap Bound Line  Vehicle  \n",
      "0        0     N  SRT     3023  \n",
      "1        0   NaN   BD        0  \n",
      "2        0   NaN  SRT        0  \n",
      "3        0   NaN   YU        0  \n",
      "4        0     S   YU     5981  \n",
      "ttc-subway-delay-2022.xlsx shape: (19895, 10)\n",
      "ttc-subway-delay-2022.xlsx info:\n",
      "<class 'pandas.core.frame.DataFrame'>\n",
      "RangeIndex: 19895 entries, 0 to 19894\n",
      "Data columns (total 10 columns):\n",
      " #   Column     Non-Null Count  Dtype         \n",
      "---  ------     --------------  -----         \n",
      " 0   Date       19895 non-null  datetime64[ns]\n",
      " 1   Time       19895 non-null  object        \n",
      " 2   Day        19895 non-null  object        \n",
      " 3   Station    19895 non-null  object        \n",
      " 4   Code       19895 non-null  object        \n",
      " 5   Min Delay  19895 non-null  int64         \n",
      " 6   Min Gap    19895 non-null  int64         \n",
      " 7   Bound      14349 non-null  object        \n",
      " 8   Line       19856 non-null  object        \n",
      " 9   Vehicle    19895 non-null  int64         \n",
      "dtypes: datetime64[ns](1), int64(3), object(6)\n",
      "memory usage: 1.5+ MB\n",
      "ttc-subway-delay-2022.xlsx basic statistics:\n",
      "ttc-subway-delay-2022.xlsx missing values per column:\n",
      "Date            0\n",
      "Time            0\n",
      "Day             0\n",
      "Station         0\n",
      "Code            0\n",
      "Min Delay       0\n",
      "Min Gap         0\n",
      "Bound        5546\n",
      "Line           39\n",
      "Vehicle         0\n",
      "dtype: int64\n",
      "ttc-subway-delay-2023.xlsx head:\n",
      "        Date   Time     Day           Station   Code  Min Delay  Min Gap  \\\n",
      "0 2023-01-01  02:22  Sunday    MUSEUM STATION  MUPAA          3        9   \n",
      "1 2023-01-01  02:30  Sunday   KIPLING STATION   MUIS          0        0   \n",
      "2 2023-01-01  02:33  Sunday    WARDEN STATION    SUO          0        0   \n",
      "3 2023-01-01  03:17  Sunday     KEELE STATION   MUIS          0        0   \n",
      "4 2023-01-01  07:16  Sunday  BATHURST STATION   MUIS          0        0   \n",
      "\n",
      "  Bound Line  Vehicle  \n",
      "0     S   YU     5931  \n",
      "1     E   BD     5341  \n",
      "2     W   BD        0  \n",
      "3   NaN   BD        0  \n",
      "4   NaN   BD        0  \n",
      "ttc-subway-delay-2023.xlsx shape: (22949, 10)\n",
      "ttc-subway-delay-2023.xlsx info:\n",
      "<class 'pandas.core.frame.DataFrame'>\n",
      "RangeIndex: 22949 entries, 0 to 22948\n",
      "Data columns (total 10 columns):\n",
      " #   Column     Non-Null Count  Dtype         \n",
      "---  ------     --------------  -----         \n",
      " 0   Date       22949 non-null  datetime64[ns]\n",
      " 1   Time       22949 non-null  object        \n",
      " 2   Day        22949 non-null  object        \n",
      " 3   Station    22949 non-null  object        \n",
      " 4   Code       22949 non-null  object        \n",
      " 5   Min Delay  22949 non-null  int64         \n",
      " 6   Min Gap    22949 non-null  int64         \n",
      " 7   Bound      14423 non-null  object        \n",
      " 8   Line       22901 non-null  object        \n",
      " 9   Vehicle    22949 non-null  int64         \n",
      "dtypes: datetime64[ns](1), int64(3), object(6)\n",
      "memory usage: 1.8+ MB\n",
      "ttc-subway-delay-2023.xlsx basic statistics:\n",
      "ttc-subway-delay-2023.xlsx missing values per column:\n",
      "Date            0\n",
      "Time            0\n",
      "Day             0\n",
      "Station         0\n",
      "Code            0\n",
      "Min Delay       0\n",
      "Min Gap         0\n",
      "Bound        8526\n",
      "Line           48\n",
      "Vehicle         0\n",
      "dtype: int64\n",
      "ttc-subway-delay-2024.xlsx head:\n",
      "        Date   Time     Day             Station   Code  Min Delay  Min Gap  \\\n",
      "0 2024-01-01  02:00  Monday    SHEPPARD STATION    MUI          0        0   \n",
      "1 2024-01-01  02:00  Monday      DUNDAS STATION   MUIS          0        0   \n",
      "2 2024-01-01  02:08  Monday      DUNDAS STATION  MUPAA          4       10   \n",
      "3 2024-01-01  02:13  Monday  KENNEDY BD STATION  PUTDN         10       16   \n",
      "4 2024-01-01  02:22  Monday       BLOOR STATION  MUPAA          4       10   \n",
      "\n",
      "  Bound Line  Vehicle  \n",
      "0     N   YU     5491  \n",
      "1     N   YU        0  \n",
      "2     N   YU     6051  \n",
      "3     E   BD     5284  \n",
      "4     N   YU     5986  \n",
      "ttc-subway-delay-2024.xlsx shape: (26467, 10)\n",
      "ttc-subway-delay-2024.xlsx info:\n",
      "<class 'pandas.core.frame.DataFrame'>\n",
      "RangeIndex: 26467 entries, 0 to 26466\n",
      "Data columns (total 10 columns):\n",
      " #   Column     Non-Null Count  Dtype         \n",
      "---  ------     --------------  -----         \n",
      " 0   Date       26467 non-null  datetime64[ns]\n",
      " 1   Time       26467 non-null  object        \n",
      " 2   Day        26467 non-null  object        \n",
      " 3   Station    26467 non-null  object        \n",
      " 4   Code       26467 non-null  object        \n",
      " 5   Min Delay  26467 non-null  int64         \n",
      " 6   Min Gap    26467 non-null  int64         \n",
      " 7   Bound      16947 non-null  object        \n",
      " 8   Line       26423 non-null  object        \n",
      " 9   Vehicle    26467 non-null  int64         \n",
      "dtypes: datetime64[ns](1), int64(3), object(6)\n",
      "memory usage: 2.0+ MB\n",
      "ttc-subway-delay-2024.xlsx basic statistics:\n",
      "ttc-subway-delay-2024.xlsx missing values per column:\n",
      "Date            0\n",
      "Time            0\n",
      "Day             0\n",
      "Station         0\n",
      "Code            0\n",
      "Min Delay       0\n",
      "Min Gap         0\n",
      "Bound        9520\n",
      "Line           44\n",
      "Vehicle         0\n",
      "dtype: int64\n"
     ]
    }
   ],
   "source": [
    "import pandas as pd\n",
    "import os\n",
    "\n",
    "# Read each file from the delay-data directory\n",
    "delay_data_dir = '../data/raw/delay-data'\n",
    "dataframes = {}\n",
    "\n",
    "# Iterate through each file in the directory\n",
    "for filename in os.listdir(delay_data_dir):\n",
    "    file_path = os.path.join(delay_data_dir, filename)\n",
    "    \n",
    "    # Check the file extension and read accordingly\n",
    "    if filename.endswith('.xlsx'):\n",
    "        df = pd.read_excel(file_path)\n",
    "    elif filename.endswith('.csv'):\n",
    "        df = pd.read_csv(file_path)\n",
    "    else:\n",
    "        continue  # Skip files that are not xlsx or csv\n",
    "\n",
    "    # Store the dataframe in the dictionary with the filename as the key\n",
    "    dataframes[filename] = df\n",
    "\n",
    "    # Show the head of each dataframe\n",
    "    print(f\"{filename} head:\")\n",
    "    print(df.head())\n",
    "    print(f\"{filename} shape:\", df.shape)\n",
    "    print(f\"{filename} info:\")\n",
    "    df.info()\n",
    "    print(f\"{filename} basic statistics:\")\n",
    "    df.describe()\n",
    "    print(f\"{filename} missing values per column:\")\n",
    "    print(df.isnull().sum())\n"
   ]
  },
  {
   "cell_type": "code",
   "execution_count": null,
   "metadata": {},
   "outputs": [],
   "source": []
  }
 ],
 "metadata": {
  "kernelspec": {
   "display_name": "dsi_participant",
   "language": "python",
   "name": "python3"
  },
  "language_info": {
   "codemirror_mode": {
    "name": "ipython",
    "version": 3
   },
   "file_extension": ".py",
   "mimetype": "text/x-python",
   "name": "python",
   "nbconvert_exporter": "python",
   "pygments_lexer": "ipython3",
   "version": "3.9.21"
  }
 },
 "nbformat": 4,
 "nbformat_minor": 2
}
