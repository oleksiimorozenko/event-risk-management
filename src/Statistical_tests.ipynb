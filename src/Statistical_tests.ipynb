{
 "cells": [
  {
   "cell_type": "code",
   "execution_count": 2,
   "metadata": {},
   "outputs": [
    {
     "name": "stdout",
     "output_type": "stream",
     "text": [
      "URLs filtered for csv and xlsx files: [\n",
      "    \"https://ckan0.cf.opendata.inter.prod-toronto.ca/dataset/996cfe8d-fb35-40ce-b569-698d51fc683b/resource/3900e649-f31e-4b79-9f20-4731bbfd94f7/download/ttc-subway-delay-codes.xlsx\",\n",
      "    \"https://ckan0.cf.opendata.inter.prod-toronto.ca/dataset/996cfe8d-fb35-40ce-b569-698d51fc683b/resource/ca43ac3d-3940-4315-889b-a9375e7b8aa4/download/ttc-subway-delay-readme.xlsx\",\n",
      "    \"https://ckan0.cf.opendata.inter.prod-toronto.ca/dataset/996cfe8d-fb35-40ce-b569-698d51fc683b/resource/8ca4a6ed-5e7e-4b9d-b950-bf45e4b2fe20/download/ttc-subway-delay-jan-2014-april-2017.xlsx\",\n",
      "    \"https://ckan0.cf.opendata.inter.prod-toronto.ca/dataset/996cfe8d-fb35-40ce-b569-698d51fc683b/resource/e2ee9f63-3130-4d6a-a259-ce79c9c2f1bc/download/ttc-subway-delay-may-december-2017.xlsx\",\n",
      "    \"https://ckan0.cf.opendata.inter.prod-toronto.ca/dataset/996cfe8d-fb35-40ce-b569-698d51fc683b/resource/32bd0973-e83d-4df1-8219-c8c55cf34c6d/download/ttc-subway-delay-data-2018.xlsx\",\n",
      "    \"https://ckan0.cf.opendata.inter.prod-toronto.ca/dataset/996cfe8d-fb35-40ce-b569-698d51fc683b/resource/1df6aace-fa16-40e9-a0d3-416a912bfaf1/download/ttc-subway-delay-data-2019.xlsx\",\n",
      "    \"https://ckan0.cf.opendata.inter.prod-toronto.ca/dataset/996cfe8d-fb35-40ce-b569-698d51fc683b/resource/1ba66ead-cddf-453d-859d-b349d3286f02/download/ttc-subway-delay-2020.xlsx\",\n",
      "    \"https://ckan0.cf.opendata.inter.prod-toronto.ca/dataset/996cfe8d-fb35-40ce-b569-698d51fc683b/resource/c6e4f5eb-6ed7-4db1-944f-87406faa5a09/download/ttc-subway-delay-2021.xlsx\",\n",
      "    \"https://ckan0.cf.opendata.inter.prod-toronto.ca/dataset/996cfe8d-fb35-40ce-b569-698d51fc683b/resource/441143ca-8194-44ce-a954-19f8141817c7/download/ttc-subway-delay-2022.xlsx\",\n",
      "    \"https://ckan0.cf.opendata.inter.prod-toronto.ca/dataset/996cfe8d-fb35-40ce-b569-698d51fc683b/resource/2fbec48b-33d9-4897-a572-96c9f002d66a/download/ttc-subway-delay-2023.xlsx\",\n",
      "    \"https://ckan0.cf.opendata.inter.prod-toronto.ca/dataset/996cfe8d-fb35-40ce-b569-698d51fc683b/resource/2ee1a65c-da06-4ad1-bdfb-b1a57701e46a/download/ttc-subway-delay-2024.xlsx\",\n",
      "    \"https://ckan0.cf.opendata.inter.prod-toronto.ca/dataset/996cfe8d-fb35-40ce-b569-698d51fc683b/resource/0b6e5c52-e993-46d6-8d74-8602ee224457/download/ttc-subway-delay-data-since-2025.csv\"\n",
      "]\n"
     ]
    }
   ],
   "source": [
    "import json\n",
    "import os\n",
    "import requests\n",
    "\n",
    "# Using https://open.toronto.ca/dataset/ttc-subway-delay-data/ as reference (For developers section)\n",
    "# See https://docs.ckan.org/en/latest/api/index.html for more information\n",
    "\n",
    "base_url = \"https://ckan0.cf.opendata.inter.prod-toronto.ca\"\n",
    "url = base_url + \"/api/3/action/package_show\"\n",
    "params = { \"id\": \"ttc-subway-delay-data\"}\n",
    "package = requests.get(url, params=params).json()\n",
    "# We want the XLSX and CSV files from non-datastore_active resources\n",
    "resource_urls = [resource[\"url\"] for resource in package[\"result\"][\"resources\"] if resource[\"format\"] in ['XLSX', 'CSV'] and not resource[\"datastore_active\"]]\n",
    "print('URLs filtered for csv and xlsx files:', json.dumps(resource_urls, indent=4))"
   ]
  },
  {
   "cell_type": "code",
   "execution_count": 3,
   "metadata": {},
   "outputs": [],
   "source": [
    "# Create directories if they don't exist\n",
    "# Note: path is relative to the path of the notebook\n",
    "reference_dir = '../data/raw/reference-data'\n",
    "delay_data_dir = '../data/raw/delay-data'\n",
    "os.makedirs(reference_dir, exist_ok=True)\n",
    "os.makedirs(delay_data_dir, exist_ok=True)\n"
   ]
  },
  {
   "cell_type": "code",
   "execution_count": 4,
   "metadata": {},
   "outputs": [
    {
     "name": "stdout",
     "output_type": "stream",
     "text": [
      "File already exists: ../data/raw/reference-data\\ttc-subway-delay-codes.xlsx\n",
      "File already exists: ../data/raw/reference-data\\ttc-subway-delay-readme.xlsx\n",
      "File already exists: ../data/raw/delay-data\\ttc-subway-delay-jan-2014-april-2017.xlsx\n",
      "File already exists: ../data/raw/delay-data\\ttc-subway-delay-may-december-2017.xlsx\n",
      "File already exists: ../data/raw/delay-data\\ttc-subway-delay-data-2018.xlsx\n",
      "File already exists: ../data/raw/delay-data\\ttc-subway-delay-data-2019.xlsx\n",
      "File already exists: ../data/raw/delay-data\\ttc-subway-delay-2020.xlsx\n",
      "File already exists: ../data/raw/delay-data\\ttc-subway-delay-2021.xlsx\n",
      "File already exists: ../data/raw/delay-data\\ttc-subway-delay-2022.xlsx\n",
      "File already exists: ../data/raw/delay-data\\ttc-subway-delay-2023.xlsx\n",
      "File already exists: ../data/raw/delay-data\\ttc-subway-delay-2024.xlsx\n",
      "File already exists: ../data/raw/delay-data\\ttc-subway-delay-data-since-2025.csv\n"
     ]
    }
   ],
   "source": [
    "# Download dataset files\n",
    "for url in resource_urls:\n",
    "    filename = os.path.basename(url)\n",
    "    if 'delay-codes' in filename or 'delay-readme' in filename:\n",
    "        target_dir = reference_dir\n",
    "    else:\n",
    "        target_dir = delay_data_dir\n",
    "\n",
    "    response = requests.get(url)\n",
    "    file_path = os.path.join(target_dir, filename)\n",
    "\n",
    "    if os.path.exists(file_path):\n",
    "        print(f\"File already exists: {file_path}\")\n",
    "    else:\n",
    "        print(f\"Saving file from {url} to {file_path}\")\n",
    "        with open(file_path, 'wb') as f:\n",
    "            f.write(response.content)"
   ]
  },
  {
   "cell_type": "code",
   "execution_count": 5,
   "metadata": {},
   "outputs": [],
   "source": [
    "import pandas as pd\n",
    "import os\n",
    "\n",
    "# Read each file from the delay-data directory\n",
    "delay_data_dir = '../data/raw/delay-data'\n",
    "dataframes = {}\n",
    "\n",
    "# Iterate through each file in the directory\n",
    "for filename in os.listdir(delay_data_dir):\n",
    "    file_path = os.path.join(delay_data_dir, filename)\n",
    "    \n",
    "    # Check the file extension and read accordingly\n",
    "    if filename.endswith('.xlsx'):\n",
    "        df = pd.read_excel(file_path)\n",
    "    elif filename.endswith('.csv'):\n",
    "        df = pd.read_csv(file_path)\n",
    "    else:\n",
    "        continue  # Skip files that are not xlsx or csv\n",
    "\n",
    "    # Store the dataframe in the dictionary with the filename as the key\n",
    "    dataframes[filename] = df"
   ]
  },
  {
   "cell_type": "code",
   "execution_count": 6,
   "metadata": {},
   "outputs": [],
   "source": [
    "files = [\n",
    "    os.path.join(delay_data_dir, \"ttc-subway-delay-2022.xlsx\"),\n",
    "    os.path.join(delay_data_dir, \"ttc-subway-delay-2023.xlsx\"),\n",
    "    os.path.join(delay_data_dir, \"ttc-subway-delay-2024.xlsx\"),\n",
    "    \n",
    "]"
   ]
  },
  {
   "cell_type": "code",
   "execution_count": 7,
   "metadata": {},
   "outputs": [
    {
     "name": "stdout",
     "output_type": "stream",
     "text": [
      "Merged Data Shape: (69311, 10)\n",
      "        Date   Time       Day                 Station   Code  Min Delay  \\\n",
      "0 2022-01-01  15:59  Saturday   LAWRENCE EAST STATION   SRDP          0   \n",
      "1 2022-01-01  02:23  Saturday      SPADINA BD STATION   MUIS          0   \n",
      "2 2022-01-01  22:00  Saturday  KENNEDY SRT STATION TO    MRO          0   \n",
      "3 2022-01-01  02:28  Saturday      VAUGHAN MC STATION   MUIS          0   \n",
      "4 2022-01-01  02:34  Saturday        EGLINTON STATION  MUATC          0   \n",
      "\n",
      "   Min Gap Bound Line  Vehicle  \n",
      "0        0     N  SRT     3023  \n",
      "1        0   NaN   BD        0  \n",
      "2        0   NaN  SRT        0  \n",
      "3        0   NaN   YU        0  \n",
      "4        0     S   YU     5981  \n"
     ]
    }
   ],
   "source": [
    "import pandas as pd\n",
    "\n",
    "# Define the file paths for the three Excel files\n",
    "file_paths = [\n",
    "    \"../data/raw/delay-data/ttc-subway-delay-2022.xlsx\",\n",
    "    \"../data/raw/delay-data/ttc-subway-delay-2023.xlsx\",\n",
    "    \"../data/raw/delay-data/ttc-subway-delay-2024.xlsx\"\n",
    "]\n",
    "\n",
    "# List to store DataFrames\n",
    "dataframes = []\n",
    "\n",
    "# Loop through the file paths and read each Excel file\n",
    "for file in file_paths:\n",
    "    df = pd.read_excel(file, engine=\"openpyxl\")  # Ensure openpyxl is used for reading Excel\n",
    "    dataframes.append(df)  # Append to list\n",
    "\n",
    "# Merge all DataFrames into one\n",
    "merged_df = pd.concat(dataframes, ignore_index=True)\n",
    "\n",
    "# Display shape and sample data\n",
    "print(\"Merged Data Shape:\", merged_df.shape)\n",
    "print(merged_df.head())"
   ]
  },
  {
   "cell_type": "code",
   "execution_count": 8,
   "metadata": {},
   "outputs": [
    {
     "data": {
      "text/plain": [
       "(69311, 10)"
      ]
     },
     "execution_count": 8,
     "metadata": {},
     "output_type": "execute_result"
    }
   ],
   "source": [
    "df = merged_df\n",
    "df.shape"
   ]
  },
  {
   "cell_type": "code",
   "execution_count": 9,
   "metadata": {},
   "outputs": [
    {
     "name": "stdout",
     "output_type": "stream",
     "text": [
      "Rows before cleaning: 69311\n",
      "Rows after cleaning: 45703\n"
     ]
    }
   ],
   "source": [
    "# Drop rows with any missing values\n",
    "df_cleaned = df.dropna()\n",
    "\n",
    "# Display number of rows before and after cleaning\n",
    "print(\"Rows before cleaning:\", df.shape[0])\n",
    "print(\"Rows after cleaning:\", df_cleaned.shape[0])"
   ]
  },
  {
   "cell_type": "code",
   "execution_count": 10,
   "metadata": {},
   "outputs": [
    {
     "name": "stdout",
     "output_type": "stream",
     "text": [
      "<class 'pandas.core.frame.DataFrame'>\n",
      "Index: 26606 entries, 9 to 69310\n",
      "Data columns (total 10 columns):\n",
      " #   Column     Non-Null Count  Dtype         \n",
      "---  ------     --------------  -----         \n",
      " 0   Date       26606 non-null  datetime64[ns]\n",
      " 1   Time       26606 non-null  object        \n",
      " 2   Day        26606 non-null  object        \n",
      " 3   Station    26606 non-null  object        \n",
      " 4   Code       26606 non-null  object        \n",
      " 5   Min Delay  26606 non-null  int64         \n",
      " 6   Min Gap    26606 non-null  int64         \n",
      " 7   Bound      26276 non-null  object        \n",
      " 8   Line       26604 non-null  object        \n",
      " 9   Vehicle    26606 non-null  int64         \n",
      "dtypes: datetime64[ns](1), int64(3), object(6)\n",
      "memory usage: 2.2+ MB\n",
      "None\n"
     ]
    }
   ],
   "source": [
    "# Remove rows where Min Delay is 0\n",
    "df_cleaned = df[df[\"Min Delay\"] > 0]\n",
    "print(df_cleaned.info())"
   ]
  },
  {
   "cell_type": "code",
   "execution_count": 11,
   "metadata": {},
   "outputs": [
    {
     "name": "stdout",
     "output_type": "stream",
     "text": [
      "                                Date     Min Delay       Min Gap       Vehicle\n",
      "count                          26606  26606.000000  26606.000000  26606.000000\n",
      "mean   2023-07-04 17:31:39.992482816      8.101894     11.846087   5347.854619\n",
      "min              2022-01-01 00:00:00      2.000000      0.000000      0.000000\n",
      "25%              2022-09-26 00:00:00      3.000000      7.000000   5201.000000\n",
      "50%              2023-07-05 00:00:00      5.000000      9.000000   5516.000000\n",
      "75%              2024-04-12 00:00:00      8.000000     12.000000   5856.000000\n",
      "max              2024-12-31 00:00:00    716.000000    719.000000   9546.000000\n",
      "std                              NaN     15.602732     15.611587   1022.454277\n"
     ]
    }
   ],
   "source": [
    "# Summary statistics for numerical columns\n",
    "summary_stats = df_cleaned.describe()\n",
    "\n",
    "# Display summary statistics\n",
    "print(summary_stats)"
   ]
  },
  {
   "cell_type": "code",
   "execution_count": 12,
   "metadata": {},
   "outputs": [
    {
     "data": {
      "text/plain": [
       "Station\n",
       "FINCH STATION         1168\n",
       "EGLINTON STATION      1062\n",
       "KENNEDY BD STATION     936\n",
       "KIPLING STATION        905\n",
       "BLOOR STATION          804\n",
       "Name: count, dtype: int64"
      ]
     },
     "execution_count": 12,
     "metadata": {},
     "output_type": "execute_result"
    }
   ],
   "source": [
    "# Count the number of delays per station\n",
    "station_counts = df_cleaned[\"Station\"].value_counts().head(5)  # Top 10 stations with most delays\n",
    "station_counts\n"
   ]
  },
  {
   "cell_type": "code",
   "execution_count": 13,
   "metadata": {},
   "outputs": [
    {
     "name": "stdout",
     "output_type": "stream",
     "text": [
      "Delay Band\n",
      "0-9        21476\n",
      "10-19       3593\n",
      "20-29        838\n",
      "30-39        282\n",
      "40-49        121\n",
      "           ...  \n",
      "670-679        0\n",
      "680-689        0\n",
      "690-699        0\n",
      "700-709        0\n",
      "710-719        1\n",
      "Name: count, Length: 72, dtype: int64\n"
     ]
    },
    {
     "name": "stderr",
     "output_type": "stream",
     "text": [
      "C:\\Users\\ufift\\AppData\\Local\\Temp\\ipykernel_15460\\776132449.py:8: SettingWithCopyWarning: \n",
      "A value is trying to be set on a copy of a slice from a DataFrame.\n",
      "Try using .loc[row_indexer,col_indexer] = value instead\n",
      "\n",
      "See the caveats in the documentation: https://pandas.pydata.org/pandas-docs/stable/user_guide/indexing.html#returning-a-view-versus-a-copy\n",
      "  df_cleaned[\"Delay Band\"] = pd.cut(df_cleaned[\"Min Delay\"], bins=bin_edges, labels=bin_labels, right=False)\n"
     ]
    }
   ],
   "source": [
    "import pandas as pd\n",
    "\n",
    "# Create bins for Min Delay in 100-minute intervals\n",
    "bin_edges = list(range(0, df_cleaned[\"Min Delay\"].max() + 10, 10))\n",
    "bin_labels = [f\"{bin_edges[i]}-{bin_edges[i+1]-1}\" for i in range(len(bin_edges)-1)]\n",
    "\n",
    "# Categorize delays into bins\n",
    "df_cleaned[\"Delay Band\"] = pd.cut(df_cleaned[\"Min Delay\"], bins=bin_edges, labels=bin_labels, right=False)\n",
    "\n",
    "# Count occurrences for each delay band\n",
    "delay_band_counts = df_cleaned[\"Delay Band\"].value_counts().sort_index()\n",
    "\n",
    "# Display the counts\n",
    "print(delay_band_counts)"
   ]
  },
  {
   "cell_type": "code",
   "execution_count": 14,
   "metadata": {},
   "outputs": [
    {
     "name": "stdout",
     "output_type": "stream",
     "text": [
      "Min Delay\n",
      "2        43\n",
      "3      6703\n",
      "4      4595\n",
      "5      4229\n",
      "6      2362\n",
      "       ... \n",
      "451       1\n",
      "458       1\n",
      "491       1\n",
      "640       1\n",
      "716       1\n",
      "Name: count, Length: 175, dtype: int64\n"
     ]
    }
   ],
   "source": [
    "import pandas as pd\n",
    "\n",
    "# Count occurrences of each unique Min Delay value\n",
    "min_delay_counts = df_cleaned[\"Min Delay\"].value_counts().sort_index()\n",
    "\n",
    "# Display the counts\n",
    "print(min_delay_counts)"
   ]
  },
  {
   "cell_type": "code",
   "execution_count": 15,
   "metadata": {},
   "outputs": [
    {
     "name": "stderr",
     "output_type": "stream",
     "text": [
      "C:\\Users\\ufift\\AppData\\Local\\Temp\\ipykernel_15460\\2953133821.py:6: SettingWithCopyWarning: \n",
      "A value is trying to be set on a copy of a slice from a DataFrame.\n",
      "Try using .loc[row_indexer,col_indexer] = value instead\n",
      "\n",
      "See the caveats in the documentation: https://pandas.pydata.org/pandas-docs/stable/user_guide/indexing.html#returning-a-view-versus-a-copy\n",
      "  df_cleaned[\"Delay Band\"] = pd.cut(df_cleaned[\"Min Delay\"], bins=bin_edges, labels=bin_labels, right=False)\n"
     ]
    }
   ],
   "source": [
    "# Create bins for Min Delay in 10-minute intervals (excluding values >100)\n",
    "bin_edges = list(range(0, 101, 10))  # 10-minute bins up to 100 minutes\n",
    "bin_labels = [f\"{bin_edges[i]}-{bin_edges[i+1]-1}\" for i in range(len(bin_edges)-1)]\n",
    "\n",
    "# Categorize delays into bins\n",
    "df_cleaned[\"Delay Band\"] = pd.cut(df_cleaned[\"Min Delay\"], bins=bin_edges, labels=bin_labels, right=False)\n",
    "\n",
    "# Count occurrences for each delay band\n",
    "delay_band_counts_filtered = df_cleaned[\"Delay Band\"].value_counts().sort_index()"
   ]
  },
  {
   "cell_type": "code",
   "execution_count": 16,
   "metadata": {},
   "outputs": [
    {
     "name": "stdout",
     "output_type": "stream",
     "text": [
      "<class 'pandas.core.frame.DataFrame'>\n",
      "Index: 26606 entries, 9 to 69310\n",
      "Data columns (total 11 columns):\n",
      " #   Column      Non-Null Count  Dtype         \n",
      "---  ------      --------------  -----         \n",
      " 0   Date        26606 non-null  datetime64[ns]\n",
      " 1   Time        26606 non-null  object        \n",
      " 2   Day         26606 non-null  object        \n",
      " 3   Station     26606 non-null  object        \n",
      " 4   Code        26606 non-null  object        \n",
      " 5   Min Delay   26606 non-null  int64         \n",
      " 6   Min Gap     26606 non-null  int64         \n",
      " 7   Bound       26276 non-null  object        \n",
      " 8   Line        26604 non-null  object        \n",
      " 9   Vehicle     26606 non-null  int64         \n",
      " 10  Delay Band  26499 non-null  category      \n",
      "dtypes: category(1), datetime64[ns](1), int64(3), object(6)\n",
      "memory usage: 2.3+ MB\n",
      "None\n"
     ]
    }
   ],
   "source": [
    "print(df_cleaned.info())  # Shows data types, non-null counts, and memory usage"
   ]
  },
  {
   "cell_type": "code",
   "execution_count": 17,
   "metadata": {},
   "outputs": [
    {
     "name": "stdout",
     "output_type": "stream",
     "text": [
      "Rows after keeping only selected stations: 4875\n"
     ]
    }
   ],
   "source": [
    "\n",
    "# Count occurrences of each station\n",
    "station_counts = df_cleaned[\"Station\"].value_counts().head(5)  # Top 5 stations\n",
    "\n",
    "# Define the list of five stations to keep\n",
    "selected_stations = [\"FINCH STATION\", \"EGLINTON STATION\", \"KENNEDY BD STATION\", \"KIPLING STATION\", \"BLOOR STATION\"]  # Replace with actual station names\n",
    "\n",
    "# Filter the dataset to keep only these stations\n",
    "df_cleaned = df_cleaned[df_cleaned[\"Station\"].isin(selected_stations)]\n",
    "\n",
    "# Display the number of remaining records\n",
    "print(\"Rows after keeping only selected stations:\", df_cleaned.shape[0])"
   ]
  },
  {
   "cell_type": "code",
   "execution_count": 18,
   "metadata": {},
   "outputs": [
    {
     "name": "stdout",
     "output_type": "stream",
     "text": [
      "     Time       Day             Station   Code  Min Delay  Min Gap Bound Line  \\\n",
      "16  08:12  Saturday       FINCH STATION  TUNOA          6       12     S   YU   \n",
      "24  09:45  Saturday  KENNEDY BD STATION    TUO          5       10     W   BD   \n",
      "25  09:51  Saturday       FINCH STATION  TUNOA          6       12     S   YU   \n",
      "33  18:20  Saturday    EGLINTON STATION  MUATC          3       10     S   YU   \n",
      "35  18:59  Saturday    EGLINTON STATION  MUATC          3       10     S   YU   \n",
      "\n",
      "    Vehicle Delay Band  Season  \n",
      "16        0        0-9  Winter  \n",
      "24     5153        0-9  Winter  \n",
      "25        0        0-9  Winter  \n",
      "33     5481        0-9  Winter  \n",
      "35     5906        0-9  Winter  \n"
     ]
    }
   ],
   "source": [
    "import pandas as pd\n",
    "\n",
    "# Define seasons based on the month\n",
    "def categorize_season(date):\n",
    "    month = date.month\n",
    "    if month in [12, 1, 2]:\n",
    "        return \"Winter\"\n",
    "    elif month in [3, 4, 5]:\n",
    "        return \"Spring\"\n",
    "    elif month in [6, 7, 8]:\n",
    "        return \"Summer\"\n",
    "    else:\n",
    "        return \"Fall\"\n",
    "\n",
    "# Convert \"Date\" column to datetime format (if not already)\n",
    "df_cleaned[\"Date\"] = pd.to_datetime(df_cleaned[\"Date\"])\n",
    "\n",
    "# Apply the function to categorize each date into a season\n",
    "df_cleaned[\"Season\"] = df_cleaned[\"Date\"].apply(categorize_season)\n",
    "\n",
    "# Remove the \"Date\" column after categorizing into seasons\n",
    "df_cleaned = df_cleaned.drop(columns=[\"Date\"], errors=\"ignore\")\n",
    "\n",
    "# Display the first few rows to verify\n",
    "print(df_cleaned.head())"
   ]
  },
  {
   "cell_type": "code",
   "execution_count": 19,
   "metadata": {},
   "outputs": [
    {
     "name": "stdout",
     "output_type": "stream",
     "text": [
      "         Day             Station   Code  Min Delay  Min Gap Bound Line  \\\n",
      "16  Saturday       FINCH STATION  TUNOA          6       12     S   YU   \n",
      "24  Saturday  KENNEDY BD STATION    TUO          5       10     W   BD   \n",
      "25  Saturday       FINCH STATION  TUNOA          6       12     S   YU   \n",
      "33  Saturday    EGLINTON STATION  MUATC          3       10     S   YU   \n",
      "35  Saturday    EGLINTON STATION  MUATC          3       10     S   YU   \n",
      "\n",
      "    Vehicle Delay Band  Season Time Period  \n",
      "16        0        0-9  Winter     Morning  \n",
      "24     5153        0-9  Winter     Morning  \n",
      "25        0        0-9  Winter     Morning  \n",
      "33     5481        0-9  Winter     Evening  \n",
      "35     5906        0-9  Winter     Evening  \n"
     ]
    }
   ],
   "source": [
    "# Define time categories based on the hour of the day\n",
    "def categorize_time(time):\n",
    "    hour = int(time.split(\":\")[0])  # Extract hour from time string\n",
    "    if 5 <= hour < 12:\n",
    "        return \"Morning\"\n",
    "    elif 12 <= hour < 17:\n",
    "        return \"Afternoon\"\n",
    "    elif 17 <= hour < 21:\n",
    "        return \"Evening\"\n",
    "    else:\n",
    "        return \"Night\"\n",
    "\n",
    "# Apply the function to categorize each time into a time period\n",
    "df_cleaned[\"Time Period\"] = df_cleaned[\"Time\"].apply(categorize_time)\n",
    "\n",
    "# Remove the original \"Time\" column\n",
    "\n",
    "df_cleaned = df_cleaned.drop(columns=[\"Time\"], errors=\"ignore\")\n",
    "\n",
    "# Display the first few rows to verify\n",
    "\n",
    "print(df_cleaned.head())"
   ]
  },
  {
   "cell_type": "code",
   "execution_count": 20,
   "metadata": {},
   "outputs": [
    {
     "data": {
      "text/html": [
       "<div>\n",
       "<style scoped>\n",
       "    .dataframe tbody tr th:only-of-type {\n",
       "        vertical-align: middle;\n",
       "    }\n",
       "\n",
       "    .dataframe tbody tr th {\n",
       "        vertical-align: top;\n",
       "    }\n",
       "\n",
       "    .dataframe thead th {\n",
       "        text-align: right;\n",
       "    }\n",
       "</style>\n",
       "<table border=\"1\" class=\"dataframe\">\n",
       "  <thead>\n",
       "    <tr style=\"text-align: right;\">\n",
       "      <th></th>\n",
       "      <th>Day</th>\n",
       "      <th>Station</th>\n",
       "      <th>Code</th>\n",
       "      <th>Min Delay</th>\n",
       "      <th>Min Gap</th>\n",
       "      <th>Bound</th>\n",
       "      <th>Line</th>\n",
       "      <th>Vehicle</th>\n",
       "      <th>Delay Band</th>\n",
       "      <th>Season</th>\n",
       "      <th>Time Period</th>\n",
       "    </tr>\n",
       "  </thead>\n",
       "  <tbody>\n",
       "    <tr>\n",
       "      <th>16</th>\n",
       "      <td>Saturday</td>\n",
       "      <td>FINCH STATION</td>\n",
       "      <td>TUNOA</td>\n",
       "      <td>6</td>\n",
       "      <td>12</td>\n",
       "      <td>S</td>\n",
       "      <td>YU</td>\n",
       "      <td>0</td>\n",
       "      <td>0-9</td>\n",
       "      <td>Winter</td>\n",
       "      <td>Morning</td>\n",
       "    </tr>\n",
       "    <tr>\n",
       "      <th>24</th>\n",
       "      <td>Saturday</td>\n",
       "      <td>KENNEDY BD STATION</td>\n",
       "      <td>TUO</td>\n",
       "      <td>5</td>\n",
       "      <td>10</td>\n",
       "      <td>W</td>\n",
       "      <td>BD</td>\n",
       "      <td>5153</td>\n",
       "      <td>0-9</td>\n",
       "      <td>Winter</td>\n",
       "      <td>Morning</td>\n",
       "    </tr>\n",
       "    <tr>\n",
       "      <th>25</th>\n",
       "      <td>Saturday</td>\n",
       "      <td>FINCH STATION</td>\n",
       "      <td>TUNOA</td>\n",
       "      <td>6</td>\n",
       "      <td>12</td>\n",
       "      <td>S</td>\n",
       "      <td>YU</td>\n",
       "      <td>0</td>\n",
       "      <td>0-9</td>\n",
       "      <td>Winter</td>\n",
       "      <td>Morning</td>\n",
       "    </tr>\n",
       "    <tr>\n",
       "      <th>33</th>\n",
       "      <td>Saturday</td>\n",
       "      <td>EGLINTON STATION</td>\n",
       "      <td>MUATC</td>\n",
       "      <td>3</td>\n",
       "      <td>10</td>\n",
       "      <td>S</td>\n",
       "      <td>YU</td>\n",
       "      <td>5481</td>\n",
       "      <td>0-9</td>\n",
       "      <td>Winter</td>\n",
       "      <td>Evening</td>\n",
       "    </tr>\n",
       "    <tr>\n",
       "      <th>35</th>\n",
       "      <td>Saturday</td>\n",
       "      <td>EGLINTON STATION</td>\n",
       "      <td>MUATC</td>\n",
       "      <td>3</td>\n",
       "      <td>10</td>\n",
       "      <td>S</td>\n",
       "      <td>YU</td>\n",
       "      <td>5906</td>\n",
       "      <td>0-9</td>\n",
       "      <td>Winter</td>\n",
       "      <td>Evening</td>\n",
       "    </tr>\n",
       "    <tr>\n",
       "      <th>...</th>\n",
       "      <td>...</td>\n",
       "      <td>...</td>\n",
       "      <td>...</td>\n",
       "      <td>...</td>\n",
       "      <td>...</td>\n",
       "      <td>...</td>\n",
       "      <td>...</td>\n",
       "      <td>...</td>\n",
       "      <td>...</td>\n",
       "      <td>...</td>\n",
       "      <td>...</td>\n",
       "    </tr>\n",
       "    <tr>\n",
       "      <th>69232</th>\n",
       "      <td>Tuesday</td>\n",
       "      <td>KENNEDY BD STATION</td>\n",
       "      <td>EUBO</td>\n",
       "      <td>3</td>\n",
       "      <td>6</td>\n",
       "      <td>W</td>\n",
       "      <td>BD</td>\n",
       "      <td>5173</td>\n",
       "      <td>0-9</td>\n",
       "      <td>Winter</td>\n",
       "      <td>Morning</td>\n",
       "    </tr>\n",
       "    <tr>\n",
       "      <th>69233</th>\n",
       "      <td>Tuesday</td>\n",
       "      <td>KENNEDY BD STATION</td>\n",
       "      <td>EUSC</td>\n",
       "      <td>3</td>\n",
       "      <td>6</td>\n",
       "      <td>W</td>\n",
       "      <td>BD</td>\n",
       "      <td>5115</td>\n",
       "      <td>0-9</td>\n",
       "      <td>Winter</td>\n",
       "      <td>Morning</td>\n",
       "    </tr>\n",
       "    <tr>\n",
       "      <th>69235</th>\n",
       "      <td>Tuesday</td>\n",
       "      <td>KIPLING STATION</td>\n",
       "      <td>MUTO</td>\n",
       "      <td>3</td>\n",
       "      <td>6</td>\n",
       "      <td>E</td>\n",
       "      <td>BD</td>\n",
       "      <td>5092</td>\n",
       "      <td>0-9</td>\n",
       "      <td>Winter</td>\n",
       "      <td>Morning</td>\n",
       "    </tr>\n",
       "    <tr>\n",
       "      <th>69243</th>\n",
       "      <td>Tuesday</td>\n",
       "      <td>EGLINTON STATION</td>\n",
       "      <td>TUCC</td>\n",
       "      <td>10</td>\n",
       "      <td>13</td>\n",
       "      <td>N</td>\n",
       "      <td>YU</td>\n",
       "      <td>5766</td>\n",
       "      <td>10-19</td>\n",
       "      <td>Winter</td>\n",
       "      <td>Afternoon</td>\n",
       "    </tr>\n",
       "    <tr>\n",
       "      <th>69248</th>\n",
       "      <td>Tuesday</td>\n",
       "      <td>KIPLING STATION</td>\n",
       "      <td>MUI</td>\n",
       "      <td>3</td>\n",
       "      <td>6</td>\n",
       "      <td>W</td>\n",
       "      <td>BD</td>\n",
       "      <td>5077</td>\n",
       "      <td>0-9</td>\n",
       "      <td>Winter</td>\n",
       "      <td>Afternoon</td>\n",
       "    </tr>\n",
       "  </tbody>\n",
       "</table>\n",
       "<p>4875 rows × 11 columns</p>\n",
       "</div>"
      ],
      "text/plain": [
       "            Day             Station   Code  Min Delay  Min Gap Bound Line  \\\n",
       "16     Saturday       FINCH STATION  TUNOA          6       12     S   YU   \n",
       "24     Saturday  KENNEDY BD STATION    TUO          5       10     W   BD   \n",
       "25     Saturday       FINCH STATION  TUNOA          6       12     S   YU   \n",
       "33     Saturday    EGLINTON STATION  MUATC          3       10     S   YU   \n",
       "35     Saturday    EGLINTON STATION  MUATC          3       10     S   YU   \n",
       "...         ...                 ...    ...        ...      ...   ...  ...   \n",
       "69232   Tuesday  KENNEDY BD STATION   EUBO          3        6     W   BD   \n",
       "69233   Tuesday  KENNEDY BD STATION   EUSC          3        6     W   BD   \n",
       "69235   Tuesday     KIPLING STATION   MUTO          3        6     E   BD   \n",
       "69243   Tuesday    EGLINTON STATION   TUCC         10       13     N   YU   \n",
       "69248   Tuesday     KIPLING STATION    MUI          3        6     W   BD   \n",
       "\n",
       "       Vehicle Delay Band  Season Time Period  \n",
       "16           0        0-9  Winter     Morning  \n",
       "24        5153        0-9  Winter     Morning  \n",
       "25           0        0-9  Winter     Morning  \n",
       "33        5481        0-9  Winter     Evening  \n",
       "35        5906        0-9  Winter     Evening  \n",
       "...        ...        ...     ...         ...  \n",
       "69232     5173        0-9  Winter     Morning  \n",
       "69233     5115        0-9  Winter     Morning  \n",
       "69235     5092        0-9  Winter     Morning  \n",
       "69243     5766      10-19  Winter   Afternoon  \n",
       "69248     5077        0-9  Winter   Afternoon  \n",
       "\n",
       "[4875 rows x 11 columns]"
      ]
     },
     "execution_count": 20,
     "metadata": {},
     "output_type": "execute_result"
    }
   ],
   "source": [
    "df_cleaned"
   ]
  },
  {
   "cell_type": "code",
   "execution_count": 21,
   "metadata": {},
   "outputs": [
    {
     "data": {
      "image/png": "[encoded data removed]",
      "text/plain": [
       "<Figure size 1000x600 with 1 Axes>"
      ]
     },
     "metadata": {},
     "output_type": "display_data"
    }
   ],
   "source": [
    "import matplotlib.pyplot as plt\n",
    "import seaborn as sns\n",
    "\n",
    "# Set figure size and style\n",
    "plt.figure(figsize=(10, 6))\n",
    "sns.histplot(df_cleaned['Min Delay'], bins=30, kde=True, color='royalblue')\n",
    "\n",
    "# Labels and title\n",
    "plt.xlabel('Minutes Delay', fontsize=12)\n",
    "plt.ylabel('Frequency', fontsize=12)\n",
    "plt.title('Histogram of Minutes Delay', fontsize=14)\n",
    "plt.xticks(rotation=45)\n",
    "plt.grid(True)\n",
    "\n",
    "# Show the plot\n",
    "plt.show()\n"
   ]
  },
  {
   "cell_type": "code",
   "execution_count": 22,
   "metadata": {},
   "outputs": [
    {
     "name": "stdout",
     "output_type": "stream",
     "text": [
      "Min Delay Range: 358 (from 2 to 360)\n"
     ]
    }
   ],
   "source": [
    "min_value = df_cleaned['Min Delay'].min()\n",
    "max_value = df_cleaned['Min Delay'].max()\n",
    "delay_range = max_value - min_value\n",
    "\n",
    "print(f\"Min Delay Range: {delay_range} (from {min_value} to {max_value})\")"
   ]
  },
  {
   "cell_type": "code",
   "execution_count": null,
   "metadata": {},
   "outputs": [
    {
     "name": "stdout",
     "output_type": "stream",
     "text": [
      "Number of delays over 100 minutes: 8\n"
     ]
    }
   ],
   "source": [
    "# Find the total number of rows with minutes delay over 100 minutes \n",
    "count_over_100 = (df_cleaned['Min Delay'] > 100).sum()\n",
    "print(f\"Number of delays over 100 minutes: {count_over_100}\")"
   ]
  },
  {
   "cell_type": "code",
   "execution_count": null,
   "metadata": {},
   "outputs": [],
   "source": [
    "# Drop the rows with minutes delay over 100 minutes \n",
    "df = df_cleaned[df_cleaned['Min Delay'] <= 100]"
   ]
  },
  {
   "cell_type": "code",
   "execution_count": 28,
   "metadata": {},
   "outputs": [
    {
     "data": {
      "image/png": "[encoded data removed]",
      "text/plain": [
       "<Figure size 1000x600 with 1 Axes>"
      ]
     },
     "metadata": {},
     "output_type": "display_data"
    }
   ],
   "source": [
    "import matplotlib.pyplot as plt\n",
    "import seaborn as sns\n",
    "\n",
    "# Set figure size and style\n",
    "plt.figure(figsize=(10, 6))\n",
    "sns.histplot(df['Min Delay'], bins=30, kde=True, color='royalblue')\n",
    "\n",
    "# Labels and title\n",
    "plt.xlabel('Minutes Delay', fontsize=12)\n",
    "plt.ylabel('Frequency', fontsize=12)\n",
    "plt.title('Histogram of Minutes Delay', fontsize=14)\n",
    "plt.xticks(rotation=45)\n",
    "plt.grid(True)\n",
    "\n",
    "# Show the plot\n",
    "plt.show()"
   ]
  },
  {
   "cell_type": "code",
   "execution_count": null,
   "metadata": {},
   "outputs": [
    {
     "data": {
      "text/plain": [
       "Min Delay    1.000000\n",
       "Min Gap      0.837805\n",
       "Vehicle      0.071162\n",
       "Name: Min Delay, dtype: float64"
      ]
     },
     "execution_count": 30,
     "metadata": {},
     "output_type": "execute_result"
    }
   ],
   "source": [
    "# Find the correaltion between variables \n",
    "df.corr(numeric_only=True)['Min Delay'].sort_values(ascending=False)\n"
   ]
  },
  {
   "cell_type": "code",
   "execution_count": 32,
   "metadata": {},
   "outputs": [
    {
     "name": "stdout",
     "output_type": "stream",
     "text": [
      "Kruskal-Wallis Test Statistic: 4.8963\n",
      "P-value: 0.1796\n",
      "No significant difference found between seasons (Fail to Reject Null Hypothesis).\n"
     ]
    }
   ],
   "source": [
    "from scipy.stats import kruskal\n",
    "\n",
    "# Grouping 'Min Delay' by 'Season'\n",
    "groups = [group['Min Delay'].dropna().values for _, group in df.groupby('Season')]\n",
    "\n",
    "# Performing Kruskal-Wallis Test\n",
    "stat, p = kruskal(*groups)\n",
    "\n",
    "# Printing Results\n",
    "print(f\"Kruskal-Wallis Test Statistic: {stat:.4f}\")\n",
    "print(f\"P-value: {p:.4f}\")\n",
    "\n",
    "# Interpreting Results\n",
    "alpha = 0.05\n",
    "if p < alpha:\n",
    "    print(\"Significant difference exists between seasons (Reject Null Hypothesis).\")\n",
    "else:\n",
    "    print(\"No significant difference found between seasons (Fail to Reject Null Hypothesis).\")\n"
   ]
  },
  {
   "cell_type": "code",
   "execution_count": 33,
   "metadata": {},
   "outputs": [
    {
     "name": "stdout",
     "output_type": "stream",
     "text": [
      "Kruskal-Wallis Test Statistic: 68.2680\n",
      "P-value: 0.0000\n",
      "Significant difference exists between stations (Reject Null Hypothesis).\n"
     ]
    }
   ],
   "source": [
    "from scipy.stats import kruskal\n",
    "\n",
    "# Grouping 'Min Delay' by 'Season'\n",
    "groups = [group['Min Delay'].dropna().values for _, group in df.groupby('Station')]\n",
    "\n",
    "# Performing Kruskal-Wallis Test\n",
    "stat, p = kruskal(*groups)\n",
    "\n",
    "# Printing Results\n",
    "print(f\"Kruskal-Wallis Test Statistic: {stat:.4f}\")\n",
    "print(f\"P-value: {p:.4f}\")\n",
    "\n",
    "# Interpreting Results\n",
    "alpha = 0.05\n",
    "if p < alpha:\n",
    "    print(\"Significant difference exists between stations (Reject Null Hypothesis).\")\n",
    "else:\n",
    "    print(\"No significant difference found between stations (Fail to Reject Null Hypothesis).\")"
   ]
  },
  {
   "cell_type": "code",
   "execution_count": 34,
   "metadata": {},
   "outputs": [
    {
     "name": "stdout",
     "output_type": "stream",
     "text": [
      "Kruskal-Wallis Test Statistic: 146.7116\n",
      "P-value: 0.0000\n",
      "Significant difference exists between days (Reject Null Hypothesis).\n"
     ]
    }
   ],
   "source": [
    "from scipy.stats import kruskal\n",
    "\n",
    "# Grouping 'Min Delay' by 'Season'\n",
    "groups = [group['Min Delay'].dropna().values for _, group in df.groupby('Day')]\n",
    "\n",
    "# Performing Kruskal-Wallis Test\n",
    "stat, p = kruskal(*groups)\n",
    "\n",
    "# Printing Results\n",
    "print(f\"Kruskal-Wallis Test Statistic: {stat:.4f}\")\n",
    "print(f\"P-value: {p:.4f}\")\n",
    "\n",
    "# Interpreting Results\n",
    "alpha = 0.05\n",
    "if p < alpha:\n",
    "    print(\"Significant difference exists between days (Reject Null Hypothesis).\")\n",
    "else:\n",
    "    print(\"No significant difference found between days (Fail to Reject Null Hypothesis).\")"
   ]
  },
  {
   "cell_type": "code",
   "execution_count": 35,
   "metadata": {},
   "outputs": [
    {
     "name": "stdout",
     "output_type": "stream",
     "text": [
      "Kruskal-Wallis Test Statistic: 243.6943\n",
      "P-value: 0.0000\n",
      "Significant difference exists between time periods of a day (Reject Null Hypothesis).\n"
     ]
    }
   ],
   "source": [
    "from scipy.stats import kruskal\n",
    "\n",
    "# Grouping 'Min Delay' by 'Season'\n",
    "groups = [group['Min Delay'].dropna().values for _, group in df.groupby('Time Period')]\n",
    "\n",
    "# Performing Kruskal-Wallis Test\n",
    "stat, p = kruskal(*groups)\n",
    "\n",
    "# Printing Results\n",
    "print(f\"Kruskal-Wallis Test Statistic: {stat:.4f}\")\n",
    "print(f\"P-value: {p:.4f}\")\n",
    "\n",
    "# Interpreting Results\n",
    "alpha = 0.05\n",
    "if p < alpha:\n",
    "    print(\"Significant difference exists between time periods of a day (Reject Null Hypothesis).\")\n",
    "else:\n",
    "    print(\"No significant difference found between time periods of a day (Fail to Reject Null Hypothesis).\")"
   ]
  },
  {
   "cell_type": "code",
   "execution_count": 36,
   "metadata": {},
   "outputs": [
    {
     "name": "stdout",
     "output_type": "stream",
     "text": [
      "Kruskal-Wallis Test Statistic: 96.2002\n",
      "P-value: 0.0000\n",
      "Significant difference exists between bounds (Reject Null Hypothesis).\n"
     ]
    }
   ],
   "source": [
    "from scipy.stats import kruskal\n",
    "\n",
    "# Grouping 'Min Delay' by 'Season'\n",
    "groups = [group['Min Delay'].dropna().values for _, group in df.groupby('Bound')]\n",
    "\n",
    "# Performing Kruskal-Wallis Test\n",
    "stat, p = kruskal(*groups)\n",
    "\n",
    "# Printing Results\n",
    "print(f\"Kruskal-Wallis Test Statistic: {stat:.4f}\")\n",
    "print(f\"P-value: {p:.4f}\")\n",
    "\n",
    "# Interpreting Results\n",
    "alpha = 0.05\n",
    "if p < alpha:\n",
    "    print(\"Significant difference exists between bounds (Reject Null Hypothesis).\")\n",
    "else:\n",
    "    print(\"No significant difference found between bounds (Fail to Reject Null Hypothesis).\")"
   ]
  }
 ],
 "metadata": {
  "kernelspec": {
   "display_name": "dsi_participant",
   "language": "python",
   "name": "python3"
  },
  "language_info": {
   "codemirror_mode": {
    "name": "ipython",
    "version": 3
   },
   "file_extension": ".py",
   "mimetype": "text/x-python",
   "name": "python",
   "nbconvert_exporter": "python",
   "pygments_lexer": "ipython3",
   "version": "3.9.15"
  }
 },
 "nbformat": 4,
 "nbformat_minor": 2
}
